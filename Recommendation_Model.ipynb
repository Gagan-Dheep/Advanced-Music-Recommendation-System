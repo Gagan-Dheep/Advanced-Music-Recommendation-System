{
 "cells": [
  {
   "cell_type": "code",
   "execution_count": 2,
   "id": "0c6b82d3-d5d8-4ddf-a987-5ad37b678714",
   "metadata": {},
   "outputs": [],
   "source": [
    "import pandas as pd"
   ]
  },
  {
   "cell_type": "code",
   "execution_count": 3,
   "id": "b3f38a3f-eb04-45a3-839c-6bebf56c1f8c",
   "metadata": {},
   "outputs": [],
   "source": [
    "df = pd.read_csv(\"./Music-Recommendation-System/Dataset/spotify_millsongdata.csv\")"
   ]
  },
  {
   "cell_type": "code",
   "execution_count": 95,
   "id": "2f54d752-eff5-4e49-a332-49eacdfdc9b3",
   "metadata": {},
   "outputs": [
    {
     "data": {
      "text/html": [
       "<div>\n",
       "<style scoped>\n",
       "    .dataframe tbody tr th:only-of-type {\n",
       "        vertical-align: middle;\n",
       "    }\n",
       "\n",
       "    .dataframe tbody tr th {\n",
       "        vertical-align: top;\n",
       "    }\n",
       "\n",
       "    .dataframe thead th {\n",
       "        text-align: right;\n",
       "    }\n",
       "</style>\n",
       "<table border=\"1\" class=\"dataframe\">\n",
       "  <thead>\n",
       "    <tr style=\"text-align: right;\">\n",
       "      <th></th>\n",
       "      <th>artist</th>\n",
       "      <th>song</th>\n",
       "      <th>link</th>\n",
       "      <th>text</th>\n",
       "    </tr>\n",
       "  </thead>\n",
       "  <tbody>\n",
       "    <tr>\n",
       "      <th>0</th>\n",
       "      <td>ABBA</td>\n",
       "      <td>Ahe's My Kind Of Girl</td>\n",
       "      <td>/a/abba/ahes+my+kind+of+girl_20598417.html</td>\n",
       "      <td>Look at her face, it's a wonderful face  \\r\\nA...</td>\n",
       "    </tr>\n",
       "    <tr>\n",
       "      <th>1</th>\n",
       "      <td>ABBA</td>\n",
       "      <td>Andante, Andante</td>\n",
       "      <td>/a/abba/andante+andante_20002708.html</td>\n",
       "      <td>Take it easy with me, please  \\r\\nTouch me gen...</td>\n",
       "    </tr>\n",
       "    <tr>\n",
       "      <th>2</th>\n",
       "      <td>ABBA</td>\n",
       "      <td>As Good As New</td>\n",
       "      <td>/a/abba/as+good+as+new_20003033.html</td>\n",
       "      <td>I'll never know why I had to go  \\r\\nWhy I had...</td>\n",
       "    </tr>\n",
       "    <tr>\n",
       "      <th>3</th>\n",
       "      <td>ABBA</td>\n",
       "      <td>Bang</td>\n",
       "      <td>/a/abba/bang_20598415.html</td>\n",
       "      <td>Making somebody happy is a question of give an...</td>\n",
       "    </tr>\n",
       "    <tr>\n",
       "      <th>4</th>\n",
       "      <td>ABBA</td>\n",
       "      <td>Bang-A-Boomerang</td>\n",
       "      <td>/a/abba/bang+a+boomerang_20002668.html</td>\n",
       "      <td>Making somebody happy is a question of give an...</td>\n",
       "    </tr>\n",
       "  </tbody>\n",
       "</table>\n",
       "</div>"
      ],
      "text/plain": [
       "  artist                   song                                        link  \\\n",
       "0   ABBA  Ahe's My Kind Of Girl  /a/abba/ahes+my+kind+of+girl_20598417.html   \n",
       "1   ABBA       Andante, Andante       /a/abba/andante+andante_20002708.html   \n",
       "2   ABBA         As Good As New        /a/abba/as+good+as+new_20003033.html   \n",
       "3   ABBA                   Bang                  /a/abba/bang_20598415.html   \n",
       "4   ABBA       Bang-A-Boomerang      /a/abba/bang+a+boomerang_20002668.html   \n",
       "\n",
       "                                                text  \n",
       "0  Look at her face, it's a wonderful face  \\r\\nA...  \n",
       "1  Take it easy with me, please  \\r\\nTouch me gen...  \n",
       "2  I'll never know why I had to go  \\r\\nWhy I had...  \n",
       "3  Making somebody happy is a question of give an...  \n",
       "4  Making somebody happy is a question of give an...  "
      ]
     },
     "execution_count": 95,
     "metadata": {},
     "output_type": "execute_result"
    }
   ],
   "source": [
    "df.head(5)"
   ]
  },
  {
   "cell_type": "code",
   "execution_count": 6,
   "id": "2735f41e-1b0c-413f-9875-e04da57e46e4",
   "metadata": {},
   "outputs": [
    {
     "data": {
      "text/plain": [
       "(57650, 4)"
      ]
     },
     "execution_count": 6,
     "metadata": {},
     "output_type": "execute_result"
    }
   ],
   "source": [
    "df.shape"
   ]
  },
  {
   "cell_type": "code",
   "execution_count": 5,
   "id": "c259e60c-cd9b-4579-a02e-cc86997d0200",
   "metadata": {},
   "outputs": [
    {
     "data": {
      "text/plain": [
       "artist    0\n",
       "song      0\n",
       "link      0\n",
       "text      0\n",
       "dtype: int64"
      ]
     },
     "execution_count": 5,
     "metadata": {},
     "output_type": "execute_result"
    }
   ],
   "source": [
    "df.isnull().sum()"
   ]
  },
  {
   "cell_type": "code",
   "execution_count": 7,
   "id": "8f3e0f2e-cc86-4cc7-a172-b926551f799f",
   "metadata": {},
   "outputs": [],
   "source": [
    "df = df.sample(3000).drop('link', axis=1).reset_index(drop=True)"
   ]
  },
  {
   "cell_type": "code",
   "execution_count": null,
   "id": "36ed8221-553a-4401-9285-f0bcb02fc1cc",
   "metadata": {},
   "outputs": [
    {
     "name": "stdout",
     "output_type": "stream",
     "text": [
      "Access Token: BQCIQZe-YeOH1sz9cSaxKJTM121_HMA_mUNCzfeBTChw4Lh4PuyFTQFCIGgnrZfuLv3KHu8OJLWzLLkjjavCBGdrh3_0X2PiVoEUy-6u9GQGv6YZfkw\n",
      "6dy6iJLDPWYlYIJLNfIjYJ\n",
      "Processed Song Count: 1\n"
     ]
    },
    {
     "data": {
      "text/plain": [
       "{'song_id': '6dy6iJLDPWYlYIJLNfIjYJ', 'popularity': 6}"
      ]
     },
     "execution_count": 39,
     "metadata": {},
     "output_type": "execute_result"
    }
   ],
   "source": [
    "import requests\n",
    "\n",
    "# Spotify API credentials\n",
    "CLIENT_ID = 0#client_id\n",
    "CLIENT_SECRET = 0#secret_key\n",
    "\n",
    "def get_spotify_token():\n",
    "    url = 'https://accounts.spotify.com/api/token'\n",
    "    headers = {\n",
    "        'Content-Type': 'application/x-www-form-urlencoded'\n",
    "    }\n",
    "    data = {\n",
    "        'grant_type': 'client_credentials',\n",
    "        'client_id': CLIENT_ID,\n",
    "        'client_secret': CLIENT_SECRET\n",
    "    }\n",
    "    response = requests.post(url, headers=headers, data=data)\n",
    "    response_data = response.json()\n",
    "    return response_data['access_token']\n",
    "\n",
    "# Get token\n",
    "spotify_token = get_spotify_token()\n",
    "print(f\"Access Token: {spotify_token}\")\n",
    "\n",
    "counter= 0\n",
    "\n",
    "def search_song(song, artist, token):\n",
    "    global counter\n",
    "    url = 'https://api.spotify.com/v1/search'\n",
    "    headers = {\n",
    "        'Authorization': f'Bearer {token}'\n",
    "    }\n",
    "    params = {\n",
    "        'q': f'track:{song} artist:{artist}',  # Search query with song and artist\n",
    "        'type': 'track',\n",
    "        'limit': 1  # Retrieve only the top result\n",
    "    }\n",
    "    response = requests.get(url, headers=headers, params=params)\n",
    "    response_data = response.json()\n",
    "    \n",
    "    if 'tracks' in response_data and response_data['tracks']['items']:\n",
    "        track = response_data['tracks']['items'][0]\n",
    "        print(track['id'])\n",
    "        counter += 1  # Increment counter\n",
    "        print(f\"Processed Song Count: {counter}\")\n",
    "        return {\n",
    "            'song_id': track['id'],\n",
    "            'popularity': track['popularity'],\n",
    "        }\n",
    "    else:\n",
    "        return None\n",
    "\n",
    "\n",
    "# Search for a song\n",
    "# df['song_data'] = df.apply(\n",
    "#     lambda row: search_song(row['song'], row['artist'], spotify_token),\n",
    "#     axis=1\n",
    "# )\n",
    "\n",
    "search_song('Happiness Is A Thing Called Joe', 'Ella Fitzgerald', spotify_token)\n",
    "\n",
    "\n",
    "# song_data_df = pd.json_normalize(df['song_data'])\n",
    "# df = pd.concat([df, song_data_df], axis=1)\n",
    "\n",
    "# # Use popularity as a feature now\n",
    "# print(songs_df[['track_id','popularity']])\n",
    "\n",
    "# df.to_csv('updated_songs_with_id.csv', index=False)\n",
    "\n",
    "# # Print updated DataFrame\n",
    "# print(songs_df)\n"
   ]
  },
  {
   "cell_type": "code",
   "execution_count": 43,
   "id": "8f8b08b0-6116-47d2-b716-1d06a0d9c38b",
   "metadata": {},
   "outputs": [
    {
     "name": "stdout",
     "output_type": "stream",
     "text": [
      "6dy6iJLDPWYlYIJLNfIjYJ\n"
     ]
    }
   ],
   "source": [
    "import re\n",
    "\n",
    "expression = \"{'song_id': '6dy6iJLDPWYlYIJLNfIjYJ', 'song_name': 'Some Song'}\"\n",
    "\n",
    "# Now apply regex to extract the song_id\n",
    "song_id = re.search(r\"'song_id': '([^']+)'\", expression).group(1) if re.search(r\"'song_id': '([^']+)'\", expression) else None\n",
    "print(song_id)\n"
   ]
  },
  {
   "cell_type": "code",
   "execution_count": null,
   "id": "b933a639-b319-4963-90fb-5ceb04b226c3",
   "metadata": {},
   "outputs": [],
   "source": []
  },
  {
   "cell_type": "code",
   "execution_count": 38,
   "id": "95fbe7e1-9006-4b14-a0a7-a9e6983c0ba8",
   "metadata": {},
   "outputs": [
    {
     "data": {
      "text/html": [
       "<div>\n",
       "<style scoped>\n",
       "    .dataframe tbody tr th:only-of-type {\n",
       "        vertical-align: middle;\n",
       "    }\n",
       "\n",
       "    .dataframe tbody tr th {\n",
       "        vertical-align: top;\n",
       "    }\n",
       "\n",
       "    .dataframe thead th {\n",
       "        text-align: right;\n",
       "    }\n",
       "</style>\n",
       "<table border=\"1\" class=\"dataframe\">\n",
       "  <thead>\n",
       "    <tr style=\"text-align: right;\">\n",
       "      <th></th>\n",
       "      <th>artist</th>\n",
       "      <th>song</th>\n",
       "      <th>text</th>\n",
       "      <th>song_id</th>\n",
       "    </tr>\n",
       "  </thead>\n",
       "  <tbody>\n",
       "    <tr>\n",
       "      <th>0</th>\n",
       "      <td>Ella Fitzgerald</td>\n",
       "      <td>Happiness Is A Thing Called Joe</td>\n",
       "      <td>It seem like happiness is jus' a thing called ...</td>\n",
       "      <td>{'song_id': '6dy6iJLDPWYlYIJLNfIjYJ', 'song_na...</td>\n",
       "    </tr>\n",
       "    <tr>\n",
       "      <th>1</th>\n",
       "      <td>Barbra Streisand</td>\n",
       "      <td>At The Same Time</td>\n",
       "      <td>Think of all the hearts  \\r\\nBeating in the wo...</td>\n",
       "      <td>{'song_id': '0SdtnLzfhMnIsGcmhr6ac8', 'song_na...</td>\n",
       "    </tr>\n",
       "    <tr>\n",
       "      <th>2</th>\n",
       "      <td>Chaka Khan</td>\n",
       "      <td>Clouds</td>\n",
       "      <td>Clouds  \\r\\nDifferent shapes and sizes  \\r\\nHi...</td>\n",
       "      <td>{'song_id': '1opSxQP8KkdKOGvbvlmuIV', 'song_na...</td>\n",
       "    </tr>\n",
       "    <tr>\n",
       "      <th>3</th>\n",
       "      <td>Weird Al Yankovic</td>\n",
       "      <td>Bob</td>\n",
       "      <td>I, man, am regal a German am I  \\r\\nNever odd ...</td>\n",
       "      <td>{'song_id': '2deME7JS3NAKCVJqm1l0Vs', 'song_na...</td>\n",
       "    </tr>\n",
       "    <tr>\n",
       "      <th>4</th>\n",
       "      <td>Harry Connick, Jr.</td>\n",
       "      <td>Something Was Missing</td>\n",
       "      <td>I've made me a fortune  \\r\\n(That fortune made...</td>\n",
       "      <td>{'song_id': '6UVM7drZAN6oteWCdqtHAp', 'song_na...</td>\n",
       "    </tr>\n",
       "  </tbody>\n",
       "</table>\n",
       "</div>"
      ],
      "text/plain": [
       "               artist                             song  \\\n",
       "0     Ella Fitzgerald  Happiness Is A Thing Called Joe   \n",
       "1    Barbra Streisand                 At The Same Time   \n",
       "2          Chaka Khan                           Clouds   \n",
       "3   Weird Al Yankovic                              Bob   \n",
       "4  Harry Connick, Jr.            Something Was Missing   \n",
       "\n",
       "                                                text  \\\n",
       "0  It seem like happiness is jus' a thing called ...   \n",
       "1  Think of all the hearts  \\r\\nBeating in the wo...   \n",
       "2  Clouds  \\r\\nDifferent shapes and sizes  \\r\\nHi...   \n",
       "3  I, man, am regal a German am I  \\r\\nNever odd ...   \n",
       "4  I've made me a fortune  \\r\\n(That fortune made...   \n",
       "\n",
       "                                             song_id  \n",
       "0  {'song_id': '6dy6iJLDPWYlYIJLNfIjYJ', 'song_na...  \n",
       "1  {'song_id': '0SdtnLzfhMnIsGcmhr6ac8', 'song_na...  \n",
       "2  {'song_id': '1opSxQP8KkdKOGvbvlmuIV', 'song_na...  \n",
       "3  {'song_id': '2deME7JS3NAKCVJqm1l0Vs', 'song_na...  \n",
       "4  {'song_id': '6UVM7drZAN6oteWCdqtHAp', 'song_na...  "
      ]
     },
     "execution_count": 38,
     "metadata": {},
     "output_type": "execute_result"
    }
   ],
   "source": [
    "df.head(5)"
   ]
  },
  {
   "cell_type": "code",
   "execution_count": 45,
   "id": "e58b1ee0-3d70-4d03-bed4-ff34cc034e9e",
   "metadata": {},
   "outputs": [
    {
     "name": "stdout",
     "output_type": "stream",
     "text": [
      "                  artist                             song  \\\n",
      "0        Ella Fitzgerald  Happiness Is A Thing Called Joe   \n",
      "1       Barbra Streisand                 At The Same Time   \n",
      "2             Chaka Khan                           Clouds   \n",
      "3      Weird Al Yankovic                              Bob   \n",
      "4     Harry Connick, Jr.            Something Was Missing   \n",
      "...                  ...                              ...   \n",
      "2995        King Crimson                        Heartbeat   \n",
      "2996          Air Supply               Stars In Your Eyes   \n",
      "2997        Janis Joplin                Flower In The Sun   \n",
      "2998         Wiz Khalifa                         Fly solo   \n",
      "2999                Devo                    Pink Pussycat   \n",
      "\n",
      "                                                   text  \\\n",
      "0     It seem like happiness is jus' a thing called ...   \n",
      "1     Think of all the hearts  \\r\\nBeating in the wo...   \n",
      "2     Clouds  \\r\\nDifferent shapes and sizes  \\r\\nHi...   \n",
      "3     I, man, am regal a German am I  \\r\\nNever odd ...   \n",
      "4     I've made me a fortune  \\r\\n(That fortune made...   \n",
      "...                                                 ...   \n",
      "2995  I need to feel your heartbeat heartbeat  \\r\\nS...   \n",
      "2996  We are civilized and free from all confusion  ...   \n",
      "2997  Oh please don't you think baby that I am wrong...   \n",
      "2998  [Chorus]  \\r\\nI had a dream that the whole wor...   \n",
      "2999  Pink pussycat  \\r\\nWhere are you  \\r\\nPink pus...   \n",
      "\n",
      "                                                song_id  \\\n",
      "0     {'song_id': '6dy6iJLDPWYlYIJLNfIjYJ', 'song_na...   \n",
      "1     {'song_id': '0SdtnLzfhMnIsGcmhr6ac8', 'song_na...   \n",
      "2     {'song_id': '1opSxQP8KkdKOGvbvlmuIV', 'song_na...   \n",
      "3     {'song_id': '2deME7JS3NAKCVJqm1l0Vs', 'song_na...   \n",
      "4     {'song_id': '6UVM7drZAN6oteWCdqtHAp', 'song_na...   \n",
      "...                                                 ...   \n",
      "2995  {'song_id': '5esztZeiWJF8dYixCubgai', 'song_na...   \n",
      "2996  {'song_id': '2kul5Vj85iJV57lOZ25vS2', 'song_na...   \n",
      "2997  {'song_id': '3O59UWV5NDKZ6Td64Acpzv', 'song_na...   \n",
      "2998  {'song_id': '6qa6a2fsCbLMkSIoZEfvTJ', 'song_na...   \n",
      "2999  {'song_id': '3Lfi3mdVytpWxe2SrGBN1b', 'song_na...   \n",
      "\n",
      "           extracted_song_id  \n",
      "0     6dy6iJLDPWYlYIJLNfIjYJ  \n",
      "1     0SdtnLzfhMnIsGcmhr6ac8  \n",
      "2     1opSxQP8KkdKOGvbvlmuIV  \n",
      "3     2deME7JS3NAKCVJqm1l0Vs  \n",
      "4     6UVM7drZAN6oteWCdqtHAp  \n",
      "...                      ...  \n",
      "2995  5esztZeiWJF8dYixCubgai  \n",
      "2996  2kul5Vj85iJV57lOZ25vS2  \n",
      "2997  3O59UWV5NDKZ6Td64Acpzv  \n",
      "2998  6qa6a2fsCbLMkSIoZEfvTJ  \n",
      "2999  3Lfi3mdVytpWxe2SrGBN1b  \n",
      "\n",
      "[3000 rows x 5 columns]\n"
     ]
    }
   ],
   "source": [
    "def extract_song_id(expression):\n",
    "    # Ensure the expression is a string before applying regex\n",
    "    expression_str = str(expression)\n",
    "    match = re.search(r\"'song_id': '([^']+)'\", expression_str)\n",
    "    return match.group(1) if match else None\n",
    "\n",
    "# Apply the function to the 'song_id' column\n",
    "df['extracted_song_id'] = df['song_id'].apply(extract_song_id)\n",
    "\n",
    "# Save the updated DataFrame to a CSV file\n",
    "df.to_csv('updated_songs_with_extracted_ids.csv', index=False)\n",
    "\n",
    "# Display the updated DataFrame\n",
    "print(df)"
   ]
  },
  {
   "cell_type": "code",
   "execution_count": 48,
   "id": "1450f103-f8e9-4fec-8df7-38b2e8d9f0ea",
   "metadata": {},
   "outputs": [],
   "source": [
    "df = df.drop(columns=['song_id'])\n",
    "\n",
    "# Save the updated DataFrame to a CSV file\n",
    "df.to_csv('updated_songs_with_req_id.csv', index=False)"
   ]
  },
  {
   "cell_type": "code",
   "execution_count": 51,
   "id": "0f8ce1e1-a3e7-4acc-bbcb-f277dcc61470",
   "metadata": {},
   "outputs": [
    {
     "name": "stdout",
     "output_type": "stream",
     "text": [
      "                  artist                             song  \\\n",
      "0        Ella Fitzgerald  Happiness Is A Thing Called Joe   \n",
      "1       Barbra Streisand                 At The Same Time   \n",
      "2             Chaka Khan                           Clouds   \n",
      "3      Weird Al Yankovic                              Bob   \n",
      "4     Harry Connick, Jr.            Something Was Missing   \n",
      "...                  ...                              ...   \n",
      "2995        King Crimson                        Heartbeat   \n",
      "2996          Air Supply               Stars In Your Eyes   \n",
      "2997        Janis Joplin                Flower In The Sun   \n",
      "2998         Wiz Khalifa                         Fly solo   \n",
      "2999                Devo                    Pink Pussycat   \n",
      "\n",
      "                                                   text  \\\n",
      "0     It seem like happiness is jus' a thing called ...   \n",
      "1     Think of all the hearts  \\r\\nBeating in the wo...   \n",
      "2     Clouds  \\r\\nDifferent shapes and sizes  \\r\\nHi...   \n",
      "3     I, man, am regal a German am I  \\r\\nNever odd ...   \n",
      "4     I've made me a fortune  \\r\\n(That fortune made...   \n",
      "...                                                 ...   \n",
      "2995  I need to feel your heartbeat heartbeat  \\r\\nS...   \n",
      "2996  We are civilized and free from all confusion  ...   \n",
      "2997  Oh please don't you think baby that I am wrong...   \n",
      "2998  [Chorus]  \\r\\nI had a dream that the whole wor...   \n",
      "2999  Pink pussycat  \\r\\nWhere are you  \\r\\nPink pus...   \n",
      "\n",
      "           extracted_song_id  user_id  listen_count  \n",
      "0     6dy6iJLDPWYlYIJLNfIjYJ  user_69            63  \n",
      "1     0SdtnLzfhMnIsGcmhr6ac8  user_45            32  \n",
      "2     1opSxQP8KkdKOGvbvlmuIV  user_92            99  \n",
      "3     2deME7JS3NAKCVJqm1l0Vs  user_62            55  \n",
      "4     6UVM7drZAN6oteWCdqtHAp  user_99            90  \n",
      "...                      ...      ...           ...  \n",
      "2995  5esztZeiWJF8dYixCubgai  user_99            56  \n",
      "2996  2kul5Vj85iJV57lOZ25vS2  user_41            20  \n",
      "2997  3O59UWV5NDKZ6Td64Acpzv  user_45             8  \n",
      "2998  6qa6a2fsCbLMkSIoZEfvTJ  user_31            97  \n",
      "2999  3Lfi3mdVytpWxe2SrGBN1b   user_2            39  \n",
      "\n",
      "[3000 rows x 6 columns]\n"
     ]
    }
   ],
   "source": [
    "import random\n",
    "num_users = 100  # Assume we have 100 unique users\n",
    "df['user_id'] = [f'user_{random.randint(1, num_users)}' for _ in range(len(df))]\n",
    "\n",
    "# Generate synthetic listen_count (random number between 1 and 100)\n",
    "df['listen_count'] = [random.randint(1, 100) for _ in range(len(df))]\n",
    "\n",
    "# Save the updated DataFrame to a CSV file\n",
    "df.to_csv('updated_songs_with_synthetic_data.csv', index=False)\n",
    "\n",
    "# Display the updated DataFrame\n",
    "print(df)"
   ]
  },
  {
   "cell_type": "code",
   "execution_count": 108,
   "id": "5615457d-29a5-4c1c-a08e-f679e960b9b2",
   "metadata": {},
   "outputs": [
    {
     "name": "stdout",
     "output_type": "stream",
     "text": [
      "                  artist                             song  \\\n",
      "0        Ella Fitzgerald  Happiness Is A Thing Called Joe   \n",
      "1       Barbra Streisand                 At The Same Time   \n",
      "2             Chaka Khan                           Clouds   \n",
      "3      Weird Al Yankovic                              Bob   \n",
      "4     Harry Connick, Jr.            Something Was Missing   \n",
      "...                  ...                              ...   \n",
      "2995        King Crimson                        Heartbeat   \n",
      "2996          Air Supply               Stars In Your Eyes   \n",
      "2997        Janis Joplin                Flower In The Sun   \n",
      "2998         Wiz Khalifa                         Fly solo   \n",
      "2999                Devo                    Pink Pussycat   \n",
      "\n",
      "                                                   text  \\\n",
      "0     It seem like happiness is jus' a thing called ...   \n",
      "1     Think of all the hearts  \\r\\nBeating in the wo...   \n",
      "2     Clouds  \\r\\nDifferent shapes and sizes  \\r\\nHi...   \n",
      "3     I, man, am regal a German am I  \\r\\nNever odd ...   \n",
      "4     I've made me a fortune  \\r\\n(That fortune made...   \n",
      "...                                                 ...   \n",
      "2995  I need to feel your heartbeat heartbeat  \\r\\nS...   \n",
      "2996  We are civilized and free from all confusion  ...   \n",
      "2997  Oh please don't you think baby that I am wrong...   \n",
      "2998  [Chorus]  \\r\\nI had a dream that the whole wor...   \n",
      "2999  Pink pussycat  \\r\\nWhere are you  \\r\\nPink pus...   \n",
      "\n",
      "           extracted_song_id  \n",
      "0     6dy6iJLDPWYlYIJLNfIjYJ  \n",
      "1     0SdtnLzfhMnIsGcmhr6ac8  \n",
      "2     1opSxQP8KkdKOGvbvlmuIV  \n",
      "3     2deME7JS3NAKCVJqm1l0Vs  \n",
      "4     6UVM7drZAN6oteWCdqtHAp  \n",
      "...                      ...  \n",
      "2995  5esztZeiWJF8dYixCubgai  \n",
      "2996  2kul5Vj85iJV57lOZ25vS2  \n",
      "2997  3O59UWV5NDKZ6Td64Acpzv  \n",
      "2998  6qa6a2fsCbLMkSIoZEfvTJ  \n",
      "2999  3Lfi3mdVytpWxe2SrGBN1b  \n",
      "\n",
      "[3000 rows x 4 columns]\n"
     ]
    }
   ],
   "source": [
    "import random\n",
    "fd = pd.read_csv(\"./updated_songs_with_req_id.csv\")\n",
    "\n",
    "print(fd)\n",
    "\n",
    "num_users = 1000  # Assume there are 1000 unique users\n",
    "min_songs_per_user = 16  # Minimum songs a user should listen to\n",
    "max_listen_count = 100  # Maximum listen count for any song\n",
    "\n",
    "# Step 1: Assign user_id to each row\n",
    "fd[\"user_id\"] = [f\"user_{random.randint(1, num_users)}\" for _ in range(len(df))]\n",
    "\n",
    "# Step 2: Generate listen_count for each row\n",
    "fd[\"listen_count\"] = [random.randint(1, max_listen_count) for _ in range(len(df))]\n",
    "\n",
    "# Step 3: Ensure users meet the minimum song threshold\n",
    "# user_song_counts = df.groupby(\"user_id\").size()\n",
    "# valid_users = user_song_counts[user_song_counts >= min_songs_per_user].index\n",
    "# fd = fd[fd[\"user_id\"].isin(valid_users)]\n"
   ]
  },
  {
   "cell_type": "code",
   "execution_count": 109,
   "id": "3f59e226-e5cb-49e8-bf22-0965bfe9fb62",
   "metadata": {},
   "outputs": [
    {
     "data": {
      "text/html": [
       "<div>\n",
       "<style scoped>\n",
       "    .dataframe tbody tr th:only-of-type {\n",
       "        vertical-align: middle;\n",
       "    }\n",
       "\n",
       "    .dataframe tbody tr th {\n",
       "        vertical-align: top;\n",
       "    }\n",
       "\n",
       "    .dataframe thead th {\n",
       "        text-align: right;\n",
       "    }\n",
       "</style>\n",
       "<table border=\"1\" class=\"dataframe\">\n",
       "  <thead>\n",
       "    <tr style=\"text-align: right;\">\n",
       "      <th></th>\n",
       "      <th>artist</th>\n",
       "      <th>song</th>\n",
       "      <th>text</th>\n",
       "      <th>extracted_song_id</th>\n",
       "      <th>user_id</th>\n",
       "      <th>listen_count</th>\n",
       "    </tr>\n",
       "  </thead>\n",
       "  <tbody>\n",
       "    <tr>\n",
       "      <th>0</th>\n",
       "      <td>Ella Fitzgerald</td>\n",
       "      <td>Happiness Is A Thing Called Joe</td>\n",
       "      <td>It seem like happiness is jus' a thing called ...</td>\n",
       "      <td>6dy6iJLDPWYlYIJLNfIjYJ</td>\n",
       "      <td>user_206</td>\n",
       "      <td>76</td>\n",
       "    </tr>\n",
       "    <tr>\n",
       "      <th>1</th>\n",
       "      <td>Barbra Streisand</td>\n",
       "      <td>At The Same Time</td>\n",
       "      <td>Think of all the hearts  \\r\\nBeating in the wo...</td>\n",
       "      <td>0SdtnLzfhMnIsGcmhr6ac8</td>\n",
       "      <td>user_975</td>\n",
       "      <td>66</td>\n",
       "    </tr>\n",
       "    <tr>\n",
       "      <th>2</th>\n",
       "      <td>Chaka Khan</td>\n",
       "      <td>Clouds</td>\n",
       "      <td>Clouds  \\r\\nDifferent shapes and sizes  \\r\\nHi...</td>\n",
       "      <td>1opSxQP8KkdKOGvbvlmuIV</td>\n",
       "      <td>user_231</td>\n",
       "      <td>93</td>\n",
       "    </tr>\n",
       "    <tr>\n",
       "      <th>3</th>\n",
       "      <td>Weird Al Yankovic</td>\n",
       "      <td>Bob</td>\n",
       "      <td>I, man, am regal a German am I  \\r\\nNever odd ...</td>\n",
       "      <td>2deME7JS3NAKCVJqm1l0Vs</td>\n",
       "      <td>user_837</td>\n",
       "      <td>5</td>\n",
       "    </tr>\n",
       "    <tr>\n",
       "      <th>4</th>\n",
       "      <td>Harry Connick, Jr.</td>\n",
       "      <td>Something Was Missing</td>\n",
       "      <td>I've made me a fortune  \\r\\n(That fortune made...</td>\n",
       "      <td>6UVM7drZAN6oteWCdqtHAp</td>\n",
       "      <td>user_248</td>\n",
       "      <td>32</td>\n",
       "    </tr>\n",
       "    <tr>\n",
       "      <th>...</th>\n",
       "      <td>...</td>\n",
       "      <td>...</td>\n",
       "      <td>...</td>\n",
       "      <td>...</td>\n",
       "      <td>...</td>\n",
       "      <td>...</td>\n",
       "    </tr>\n",
       "    <tr>\n",
       "      <th>2995</th>\n",
       "      <td>King Crimson</td>\n",
       "      <td>Heartbeat</td>\n",
       "      <td>I need to feel your heartbeat heartbeat  \\r\\nS...</td>\n",
       "      <td>5esztZeiWJF8dYixCubgai</td>\n",
       "      <td>user_435</td>\n",
       "      <td>27</td>\n",
       "    </tr>\n",
       "    <tr>\n",
       "      <th>2996</th>\n",
       "      <td>Air Supply</td>\n",
       "      <td>Stars In Your Eyes</td>\n",
       "      <td>We are civilized and free from all confusion  ...</td>\n",
       "      <td>2kul5Vj85iJV57lOZ25vS2</td>\n",
       "      <td>user_95</td>\n",
       "      <td>73</td>\n",
       "    </tr>\n",
       "    <tr>\n",
       "      <th>2997</th>\n",
       "      <td>Janis Joplin</td>\n",
       "      <td>Flower In The Sun</td>\n",
       "      <td>Oh please don't you think baby that I am wrong...</td>\n",
       "      <td>3O59UWV5NDKZ6Td64Acpzv</td>\n",
       "      <td>user_208</td>\n",
       "      <td>32</td>\n",
       "    </tr>\n",
       "    <tr>\n",
       "      <th>2998</th>\n",
       "      <td>Wiz Khalifa</td>\n",
       "      <td>Fly solo</td>\n",
       "      <td>[Chorus]  \\r\\nI had a dream that the whole wor...</td>\n",
       "      <td>6qa6a2fsCbLMkSIoZEfvTJ</td>\n",
       "      <td>user_53</td>\n",
       "      <td>58</td>\n",
       "    </tr>\n",
       "    <tr>\n",
       "      <th>2999</th>\n",
       "      <td>Devo</td>\n",
       "      <td>Pink Pussycat</td>\n",
       "      <td>Pink pussycat  \\r\\nWhere are you  \\r\\nPink pus...</td>\n",
       "      <td>3Lfi3mdVytpWxe2SrGBN1b</td>\n",
       "      <td>user_871</td>\n",
       "      <td>18</td>\n",
       "    </tr>\n",
       "  </tbody>\n",
       "</table>\n",
       "<p>3000 rows × 6 columns</p>\n",
       "</div>"
      ],
      "text/plain": [
       "                  artist                             song  \\\n",
       "0        Ella Fitzgerald  Happiness Is A Thing Called Joe   \n",
       "1       Barbra Streisand                 At The Same Time   \n",
       "2             Chaka Khan                           Clouds   \n",
       "3      Weird Al Yankovic                              Bob   \n",
       "4     Harry Connick, Jr.            Something Was Missing   \n",
       "...                  ...                              ...   \n",
       "2995        King Crimson                        Heartbeat   \n",
       "2996          Air Supply               Stars In Your Eyes   \n",
       "2997        Janis Joplin                Flower In The Sun   \n",
       "2998         Wiz Khalifa                         Fly solo   \n",
       "2999                Devo                    Pink Pussycat   \n",
       "\n",
       "                                                   text  \\\n",
       "0     It seem like happiness is jus' a thing called ...   \n",
       "1     Think of all the hearts  \\r\\nBeating in the wo...   \n",
       "2     Clouds  \\r\\nDifferent shapes and sizes  \\r\\nHi...   \n",
       "3     I, man, am regal a German am I  \\r\\nNever odd ...   \n",
       "4     I've made me a fortune  \\r\\n(That fortune made...   \n",
       "...                                                 ...   \n",
       "2995  I need to feel your heartbeat heartbeat  \\r\\nS...   \n",
       "2996  We are civilized and free from all confusion  ...   \n",
       "2997  Oh please don't you think baby that I am wrong...   \n",
       "2998  [Chorus]  \\r\\nI had a dream that the whole wor...   \n",
       "2999  Pink pussycat  \\r\\nWhere are you  \\r\\nPink pus...   \n",
       "\n",
       "           extracted_song_id   user_id  listen_count  \n",
       "0     6dy6iJLDPWYlYIJLNfIjYJ  user_206            76  \n",
       "1     0SdtnLzfhMnIsGcmhr6ac8  user_975            66  \n",
       "2     1opSxQP8KkdKOGvbvlmuIV  user_231            93  \n",
       "3     2deME7JS3NAKCVJqm1l0Vs  user_837             5  \n",
       "4     6UVM7drZAN6oteWCdqtHAp  user_248            32  \n",
       "...                      ...       ...           ...  \n",
       "2995  5esztZeiWJF8dYixCubgai  user_435            27  \n",
       "2996  2kul5Vj85iJV57lOZ25vS2   user_95            73  \n",
       "2997  3O59UWV5NDKZ6Td64Acpzv  user_208            32  \n",
       "2998  6qa6a2fsCbLMkSIoZEfvTJ   user_53            58  \n",
       "2999  3Lfi3mdVytpWxe2SrGBN1b  user_871            18  \n",
       "\n",
       "[3000 rows x 6 columns]"
      ]
     },
     "execution_count": 109,
     "metadata": {},
     "output_type": "execute_result"
    }
   ],
   "source": [
    "fd"
   ]
  },
  {
   "cell_type": "code",
   "execution_count": 4,
   "id": "efc9c9b7-d863-4752-968d-686fff5e08cf",
   "metadata": {},
   "outputs": [
    {
     "name": "stdout",
     "output_type": "stream",
     "text": [
      "               artist                             song  \\\n",
      "0     Ella Fitzgerald  Happiness Is A Thing Called Joe   \n",
      "1    Barbra Streisand                 At The Same Time   \n",
      "2          Chaka Khan                           Clouds   \n",
      "3   Weird Al Yankovic                              Bob   \n",
      "4  Harry Connick, Jr.            Something Was Missing   \n",
      "\n",
      "                                                text       extracted_song_id  \\\n",
      "0  It seem like happiness is jus' a thing called ...  6dy6iJLDPWYlYIJLNfIjYJ   \n",
      "1  Think of all the hearts  \\r\\nBeating in the wo...  0SdtnLzfhMnIsGcmhr6ac8   \n",
      "2  Clouds  \\r\\nDifferent shapes and sizes  \\r\\nHi...  1opSxQP8KkdKOGvbvlmuIV   \n",
      "3  I, man, am regal a German am I  \\r\\nNever odd ...  2deME7JS3NAKCVJqm1l0Vs   \n",
      "4  I've made me a fortune  \\r\\n(That fortune made...  6UVM7drZAN6oteWCdqtHAp   \n",
      "\n",
      "   user_id  listen_count  \n",
      "0  user_69            63  \n",
      "1  user_45            32  \n",
      "2  user_92            99  \n",
      "3  user_62            55  \n",
      "4  user_99            90  \n"
     ]
    }
   ],
   "source": [
    "import pandas as pd\n",
    "import random\n",
    "\n",
    "# Load your existing dataset (3000 rows)\n",
    "fd = pd.read_csv(\"./updated_songs_with_synthetic_data.csv\")  # Replace with your actual file\n",
    "\n",
    "# Parameters\n",
    "# num_users = 500  # Total unique users\n",
    "# min_songs_per_user = 16  # Minimum songs a user must listen to\n",
    "# max_listen_count = 100  # Maximum listen count for any song\n",
    "\n",
    "# # Step 1: Generate a list of user_ids ensuring minimum song requirements\n",
    "# user_ids = []\n",
    "# while len(user_ids) < len(fd):\n",
    "#     # Add each user at least 'min_songs_per_user' times\n",
    "#     user_ids.extend([f\"user_{i}\" for i in range(1, num_users + 1)])\n",
    "\n",
    "# # Trim to ensure exactly the number of rows in the dataset\n",
    "# user_ids = user_ids[:len(fd)]\n",
    "\n",
    "# # Step 2: Shuffle user_ids to distribute randomly\n",
    "# random.shuffle(user_ids)\n",
    "\n",
    "# # Step 3: Generate random listen counts for each row\n",
    "# listen_counts = [random.randint(1, max_listen_count) for _ in range(len(fd))]\n",
    "\n",
    "# # Step 4: Assign the new 'user_id' and 'listen_count' columns to the existing DataFrame\n",
    "# fd['user_id'] = user_ids\n",
    "# fd['listen_count'] = listen_counts\n",
    "\n",
    "# # Display statistics\n",
    "# average_listen_count = df[\"listen_count\"].mean()\n",
    "# min_listen_count = df[\"listen_count\"].min()\n",
    "# max_listen_count = df[\"listen_count\"].max()\n",
    "\n",
    "# print(f\"A song is listened to by an average of {average_listen_count:.2f} users, \"\n",
    "#       f\"with minimum {min_listen_count} and maximum {max_listen_count} listens.\")\n",
    "\n",
    "# # Save the updated dataset to a CSV file\n",
    "# # df.to_csv(\"updated_songs_with_synthetic_data.csv\", index=False)\n",
    "# print(\"Updated dataset saved to 'updated_songs_with_synthetic_data.csv'\")\n",
    "\n",
    "# Display the updated dataframe\n",
    "print(fd.head())\n"
   ]
  },
  {
   "cell_type": "code",
   "execution_count": 6,
   "id": "f5d20b40-ec39-4e70-995e-a3cc6389daef",
   "metadata": {},
   "outputs": [
    {
     "name": "stderr",
     "output_type": "stream",
     "text": [
      "C:\\Users\\GAGAN\\AppData\\Local\\Temp\\ipykernel_11616\\3881705954.py:7: UserWarning: \n",
      "\n",
      "`distplot` is a deprecated function and will be removed in seaborn v0.14.0.\n",
      "\n",
      "Please adapt your code to use either `displot` (a figure-level function with\n",
      "similar flexibility) or `histplot` (an axes-level function for histograms).\n",
      "\n",
      "For a guide to updating your code to use the new functions, please see\n",
      "https://gist.github.com/mwaskom/de44147ed2974457ad6372750bbe5751\n",
      "\n",
      "  sns.distplot(song_user.values, color='blue')\n"
     ]
    },
    {
     "data": {
      "image/png": "[encoded data removed]",
      "text/plain": [
       "<Figure size 1600x800 with 1 Axes>"
      ]
     },
     "metadata": {},
     "output_type": "display_data"
    },
    {
     "name": "stdout",
     "output_type": "stream",
     "text": [
      "A song is listened for an average of 1.000777907429016 users, with minimum 1 and maximum 2 users\n"
     ]
    }
   ],
   "source": [
    "import numpy as np\n",
    "import pandas as pd\n",
    "import seaborn as sns\n",
    "import matplotlib.pyplot as plt\n",
    "song_user = fd.groupby('extracted_song_id')['user_id'].count()\n",
    "plt.figure(figsize=(16, 8))\n",
    "sns.distplot(song_user.values, color='blue')\n",
    "plt.gca().spines['top'].set_visible(False)\n",
    "plt.gca().spines['right'].set_visible(False)\n",
    "plt.show();\n",
    "print(f\"A song is listened for an average of {np.mean(song_user)} users, with minimum {np.min(song_user)} and maximum {np.max(song_user)} users\")"
   ]
  },
  {
   "cell_type": "code",
   "execution_count": 7,
   "id": "2986e1e6-cff5-4de6-9792-4cc0460994c4",
   "metadata": {},
   "outputs": [
    {
     "data": {
      "text/html": [
       "<div>\n",
       "<style scoped>\n",
       "    .dataframe tbody tr th:only-of-type {\n",
       "        vertical-align: middle;\n",
       "    }\n",
       "\n",
       "    .dataframe tbody tr th {\n",
       "        vertical-align: top;\n",
       "    }\n",
       "\n",
       "    .dataframe thead th {\n",
       "        text-align: right;\n",
       "    }\n",
       "</style>\n",
       "<table border=\"1\" class=\"dataframe\">\n",
       "  <thead>\n",
       "    <tr style=\"text-align: right;\">\n",
       "      <th></th>\n",
       "      <th>artist</th>\n",
       "      <th>song</th>\n",
       "      <th>text</th>\n",
       "      <th>extracted_song_id</th>\n",
       "      <th>user_id</th>\n",
       "      <th>listen_count</th>\n",
       "    </tr>\n",
       "  </thead>\n",
       "  <tbody>\n",
       "    <tr>\n",
       "      <th>2995</th>\n",
       "      <td>King Crimson</td>\n",
       "      <td>Heartbeat</td>\n",
       "      <td>I need to feel your heartbeat heartbeat  \\r\\nS...</td>\n",
       "      <td>5esztZeiWJF8dYixCubgai</td>\n",
       "      <td>user_99</td>\n",
       "      <td>56</td>\n",
       "    </tr>\n",
       "    <tr>\n",
       "      <th>2996</th>\n",
       "      <td>Air Supply</td>\n",
       "      <td>Stars In Your Eyes</td>\n",
       "      <td>We are civilized and free from all confusion  ...</td>\n",
       "      <td>2kul5Vj85iJV57lOZ25vS2</td>\n",
       "      <td>user_41</td>\n",
       "      <td>20</td>\n",
       "    </tr>\n",
       "    <tr>\n",
       "      <th>2997</th>\n",
       "      <td>Janis Joplin</td>\n",
       "      <td>Flower In The Sun</td>\n",
       "      <td>Oh please don't you think baby that I am wrong...</td>\n",
       "      <td>3O59UWV5NDKZ6Td64Acpzv</td>\n",
       "      <td>user_45</td>\n",
       "      <td>8</td>\n",
       "    </tr>\n",
       "    <tr>\n",
       "      <th>2998</th>\n",
       "      <td>Wiz Khalifa</td>\n",
       "      <td>Fly solo</td>\n",
       "      <td>[Chorus]  \\r\\nI had a dream that the whole wor...</td>\n",
       "      <td>6qa6a2fsCbLMkSIoZEfvTJ</td>\n",
       "      <td>user_31</td>\n",
       "      <td>97</td>\n",
       "    </tr>\n",
       "    <tr>\n",
       "      <th>2999</th>\n",
       "      <td>Devo</td>\n",
       "      <td>Pink Pussycat</td>\n",
       "      <td>Pink pussycat  \\r\\nWhere are you  \\r\\nPink pus...</td>\n",
       "      <td>3Lfi3mdVytpWxe2SrGBN1b</td>\n",
       "      <td>user_2</td>\n",
       "      <td>39</td>\n",
       "    </tr>\n",
       "  </tbody>\n",
       "</table>\n",
       "</div>"
      ],
      "text/plain": [
       "            artist                song  \\\n",
       "2995  King Crimson           Heartbeat   \n",
       "2996    Air Supply  Stars In Your Eyes   \n",
       "2997  Janis Joplin   Flower In The Sun   \n",
       "2998   Wiz Khalifa            Fly solo   \n",
       "2999          Devo       Pink Pussycat   \n",
       "\n",
       "                                                   text  \\\n",
       "2995  I need to feel your heartbeat heartbeat  \\r\\nS...   \n",
       "2996  We are civilized and free from all confusion  ...   \n",
       "2997  Oh please don't you think baby that I am wrong...   \n",
       "2998  [Chorus]  \\r\\nI had a dream that the whole wor...   \n",
       "2999  Pink pussycat  \\r\\nWhere are you  \\r\\nPink pus...   \n",
       "\n",
       "           extracted_song_id  user_id  listen_count  \n",
       "2995  5esztZeiWJF8dYixCubgai  user_99            56  \n",
       "2996  2kul5Vj85iJV57lOZ25vS2  user_41            20  \n",
       "2997  3O59UWV5NDKZ6Td64Acpzv  user_45             8  \n",
       "2998  6qa6a2fsCbLMkSIoZEfvTJ  user_31            97  \n",
       "2999  3Lfi3mdVytpWxe2SrGBN1b   user_2            39  "
      ]
     },
     "execution_count": 7,
     "metadata": {},
     "output_type": "execute_result"
    }
   ],
   "source": [
    "fd.tail(5)"
   ]
  },
  {
   "cell_type": "code",
   "execution_count": 100,
   "id": "f5320cef-00cc-4366-aae6-88ec03e116a8",
   "metadata": {},
   "outputs": [
    {
     "data": {
      "text/plain": [
       "\"Woman, she's moving to the weight of the world  \\r\\nMomma, she's carrying the weight of the world  \\r\\nAll the time she breathing in the weight of the world  \\r\\n  \\r\\n[Chorus]  \\r\\nBring it on home  \\r\\nBring the soup on home  \\r\\n  \\r\\nWell, poppa, too, he got the weight of the world  \\r\\nMan is moving in to the weight of the world  \\r\\nAnd all the time, along with the soup he's bringing home  \\r\\nThe weight of the world  \\r\\n  \\r\\n[Chorus]  \\r\\n  \\r\\nChildren, too, fall to this weight of the world  \\r\\nAll the time they they fall, right there into the weight  \\r\\nAnd all the time they're trying to shake  \\r\\nThe weight of the world  \\r\\n  \\r\\n[Chorus]  \\r\\n  \\r\\nEverybody's going to the wake of the world  \\r\\nWe're all dressing up fine for the wake of the world  \\r\\nAnd everybody's hiding behind trees, breathing loud  \\r\\nThe weight of the world  \\r\\n  \\r\\n[Chorus]\\r\\n\\r\\n\""
      ]
     },
     "execution_count": 100,
     "metadata": {},
     "output_type": "execute_result"
    }
   ],
   "source": [
    "df['text'][0]"
   ]
  },
  {
   "cell_type": "code",
   "execution_count": 8,
   "id": "b3dbfad5-d996-40df-a5e5-29d7619ed0a9",
   "metadata": {},
   "outputs": [
    {
     "data": {
      "text/html": [
       "<div>\n",
       "<style scoped>\n",
       "    .dataframe tbody tr th:only-of-type {\n",
       "        vertical-align: middle;\n",
       "    }\n",
       "\n",
       "    .dataframe tbody tr th {\n",
       "        vertical-align: top;\n",
       "    }\n",
       "\n",
       "    .dataframe thead th {\n",
       "        text-align: right;\n",
       "    }\n",
       "</style>\n",
       "<table border=\"1\" class=\"dataframe\">\n",
       "  <thead>\n",
       "    <tr style=\"text-align: right;\">\n",
       "      <th></th>\n",
       "      <th>artist</th>\n",
       "      <th>song</th>\n",
       "      <th>text</th>\n",
       "      <th>extracted_song_id</th>\n",
       "      <th>user_id</th>\n",
       "      <th>listen_count</th>\n",
       "    </tr>\n",
       "  </thead>\n",
       "  <tbody>\n",
       "    <tr>\n",
       "      <th>0</th>\n",
       "      <td>Ella Fitzgerald</td>\n",
       "      <td>Happiness Is A Thing Called Joe</td>\n",
       "      <td>it seem like happiness is jus' a thing called ...</td>\n",
       "      <td>6dy6iJLDPWYlYIJLNfIjYJ</td>\n",
       "      <td>user_69</td>\n",
       "      <td>63</td>\n",
       "    </tr>\n",
       "    <tr>\n",
       "      <th>1</th>\n",
       "      <td>Barbra Streisand</td>\n",
       "      <td>At The Same Time</td>\n",
       "      <td>think of all the hearts  \\r beating in the wor...</td>\n",
       "      <td>0SdtnLzfhMnIsGcmhr6ac8</td>\n",
       "      <td>user_45</td>\n",
       "      <td>32</td>\n",
       "    </tr>\n",
       "    <tr>\n",
       "      <th>2</th>\n",
       "      <td>Chaka Khan</td>\n",
       "      <td>Clouds</td>\n",
       "      <td>clouds  \\r different shapes and sizes  \\r hidi...</td>\n",
       "      <td>1opSxQP8KkdKOGvbvlmuIV</td>\n",
       "      <td>user_92</td>\n",
       "      <td>99</td>\n",
       "    </tr>\n",
       "    <tr>\n",
       "      <th>3</th>\n",
       "      <td>Weird Al Yankovic</td>\n",
       "      <td>Bob</td>\n",
       "      <td>i, man, am regal a german am i  \\r never odd o...</td>\n",
       "      <td>2deME7JS3NAKCVJqm1l0Vs</td>\n",
       "      <td>user_62</td>\n",
       "      <td>55</td>\n",
       "    </tr>\n",
       "    <tr>\n",
       "      <th>4</th>\n",
       "      <td>Harry Connick, Jr.</td>\n",
       "      <td>Something Was Missing</td>\n",
       "      <td>i've made me a fortune  \\r (that fortune made ...</td>\n",
       "      <td>6UVM7drZAN6oteWCdqtHAp</td>\n",
       "      <td>user_99</td>\n",
       "      <td>90</td>\n",
       "    </tr>\n",
       "    <tr>\n",
       "      <th>...</th>\n",
       "      <td>...</td>\n",
       "      <td>...</td>\n",
       "      <td>...</td>\n",
       "      <td>...</td>\n",
       "      <td>...</td>\n",
       "      <td>...</td>\n",
       "    </tr>\n",
       "    <tr>\n",
       "      <th>2995</th>\n",
       "      <td>King Crimson</td>\n",
       "      <td>Heartbeat</td>\n",
       "      <td>i need to feel your heartbeat heartbeat  \\r so...</td>\n",
       "      <td>5esztZeiWJF8dYixCubgai</td>\n",
       "      <td>user_99</td>\n",
       "      <td>56</td>\n",
       "    </tr>\n",
       "    <tr>\n",
       "      <th>2996</th>\n",
       "      <td>Air Supply</td>\n",
       "      <td>Stars In Your Eyes</td>\n",
       "      <td>we are civilized and free from all confusion  ...</td>\n",
       "      <td>2kul5Vj85iJV57lOZ25vS2</td>\n",
       "      <td>user_41</td>\n",
       "      <td>20</td>\n",
       "    </tr>\n",
       "    <tr>\n",
       "      <th>2997</th>\n",
       "      <td>Janis Joplin</td>\n",
       "      <td>Flower In The Sun</td>\n",
       "      <td>oh please don't you think baby that i am wrong...</td>\n",
       "      <td>3O59UWV5NDKZ6Td64Acpzv</td>\n",
       "      <td>user_45</td>\n",
       "      <td>8</td>\n",
       "    </tr>\n",
       "    <tr>\n",
       "      <th>2998</th>\n",
       "      <td>Wiz Khalifa</td>\n",
       "      <td>Fly solo</td>\n",
       "      <td>[chorus]  \\r i had a dream that the whole worl...</td>\n",
       "      <td>6qa6a2fsCbLMkSIoZEfvTJ</td>\n",
       "      <td>user_31</td>\n",
       "      <td>97</td>\n",
       "    </tr>\n",
       "    <tr>\n",
       "      <th>2999</th>\n",
       "      <td>Devo</td>\n",
       "      <td>Pink Pussycat</td>\n",
       "      <td>pink pussycat  \\r where are you  \\r pink pussy...</td>\n",
       "      <td>3Lfi3mdVytpWxe2SrGBN1b</td>\n",
       "      <td>user_2</td>\n",
       "      <td>39</td>\n",
       "    </tr>\n",
       "  </tbody>\n",
       "</table>\n",
       "<p>3000 rows × 6 columns</p>\n",
       "</div>"
      ],
      "text/plain": [
       "                  artist                             song  \\\n",
       "0        Ella Fitzgerald  Happiness Is A Thing Called Joe   \n",
       "1       Barbra Streisand                 At The Same Time   \n",
       "2             Chaka Khan                           Clouds   \n",
       "3      Weird Al Yankovic                              Bob   \n",
       "4     Harry Connick, Jr.            Something Was Missing   \n",
       "...                  ...                              ...   \n",
       "2995        King Crimson                        Heartbeat   \n",
       "2996          Air Supply               Stars In Your Eyes   \n",
       "2997        Janis Joplin                Flower In The Sun   \n",
       "2998         Wiz Khalifa                         Fly solo   \n",
       "2999                Devo                    Pink Pussycat   \n",
       "\n",
       "                                                   text  \\\n",
       "0     it seem like happiness is jus' a thing called ...   \n",
       "1     think of all the hearts  \\r beating in the wor...   \n",
       "2     clouds  \\r different shapes and sizes  \\r hidi...   \n",
       "3     i, man, am regal a german am i  \\r never odd o...   \n",
       "4     i've made me a fortune  \\r (that fortune made ...   \n",
       "...                                                 ...   \n",
       "2995  i need to feel your heartbeat heartbeat  \\r so...   \n",
       "2996  we are civilized and free from all confusion  ...   \n",
       "2997  oh please don't you think baby that i am wrong...   \n",
       "2998  [chorus]  \\r i had a dream that the whole worl...   \n",
       "2999  pink pussycat  \\r where are you  \\r pink pussy...   \n",
       "\n",
       "           extracted_song_id  user_id  listen_count  \n",
       "0     6dy6iJLDPWYlYIJLNfIjYJ  user_69            63  \n",
       "1     0SdtnLzfhMnIsGcmhr6ac8  user_45            32  \n",
       "2     1opSxQP8KkdKOGvbvlmuIV  user_92            99  \n",
       "3     2deME7JS3NAKCVJqm1l0Vs  user_62            55  \n",
       "4     6UVM7drZAN6oteWCdqtHAp  user_99            90  \n",
       "...                      ...      ...           ...  \n",
       "2995  5esztZeiWJF8dYixCubgai  user_99            56  \n",
       "2996  2kul5Vj85iJV57lOZ25vS2  user_41            20  \n",
       "2997  3O59UWV5NDKZ6Td64Acpzv  user_45             8  \n",
       "2998  6qa6a2fsCbLMkSIoZEfvTJ  user_31            97  \n",
       "2999  3Lfi3mdVytpWxe2SrGBN1b   user_2            39  \n",
       "\n",
       "[3000 rows x 6 columns]"
      ]
     },
     "execution_count": 8,
     "metadata": {},
     "output_type": "execute_result"
    }
   ],
   "source": [
    "fd.shape\n",
    "fd['text'] = fd['text'].str.lower().replace(r'^\\w\\n',' ').replace('\\n',' ', regex=True)\n",
    "fd"
   ]
  },
  {
   "cell_type": "code",
   "execution_count": 9,
   "id": "520f03cc-231d-4c8f-803f-faa222559695",
   "metadata": {},
   "outputs": [
    {
     "ename": "NameError",
     "evalue": "name 'token' is not defined",
     "output_type": "error",
     "traceback": [
      "\u001b[1;31m---------------------------------------------------------------------------\u001b[0m",
      "\u001b[1;31mNameError\u001b[0m                                 Traceback (most recent call last)",
      "Cell \u001b[1;32mIn[9], line 1\u001b[0m\n\u001b[1;32m----> 1\u001b[0m \u001b[43mfd\u001b[49m\u001b[43m[\u001b[49m\u001b[38;5;124;43m'\u001b[39;49m\u001b[38;5;124;43mtext\u001b[39;49m\u001b[38;5;124;43m'\u001b[39;49m\u001b[43m]\u001b[49m\u001b[38;5;241;43m.\u001b[39;49m\u001b[43mapply\u001b[49m\u001b[43m(\u001b[49m\u001b[38;5;28;43;01mlambda\u001b[39;49;00m\u001b[43m \u001b[49m\u001b[43mx\u001b[49m\u001b[43m:\u001b[49m\u001b[43m \u001b[49m\u001b[43mtoken\u001b[49m\u001b[43m(\u001b[49m\u001b[43mx\u001b[49m\u001b[43m)\u001b[49m\u001b[43m)\u001b[49m\n",
      "File \u001b[1;32m~\\AppData\\Local\\Programs\\Python\\Python312\\Lib\\site-packages\\pandas\\core\\series.py:4924\u001b[0m, in \u001b[0;36mSeries.apply\u001b[1;34m(self, func, convert_dtype, args, by_row, **kwargs)\u001b[0m\n\u001b[0;32m   4789\u001b[0m \u001b[38;5;28;01mdef\u001b[39;00m \u001b[38;5;21mapply\u001b[39m(\n\u001b[0;32m   4790\u001b[0m     \u001b[38;5;28mself\u001b[39m,\n\u001b[0;32m   4791\u001b[0m     func: AggFuncType,\n\u001b[1;32m   (...)\u001b[0m\n\u001b[0;32m   4796\u001b[0m     \u001b[38;5;241m*\u001b[39m\u001b[38;5;241m*\u001b[39mkwargs,\n\u001b[0;32m   4797\u001b[0m ) \u001b[38;5;241m-\u001b[39m\u001b[38;5;241m>\u001b[39m DataFrame \u001b[38;5;241m|\u001b[39m Series:\n\u001b[0;32m   4798\u001b[0m \u001b[38;5;250m    \u001b[39m\u001b[38;5;124;03m\"\"\"\u001b[39;00m\n\u001b[0;32m   4799\u001b[0m \u001b[38;5;124;03m    Invoke function on values of Series.\u001b[39;00m\n\u001b[0;32m   4800\u001b[0m \n\u001b[1;32m   (...)\u001b[0m\n\u001b[0;32m   4915\u001b[0m \u001b[38;5;124;03m    dtype: float64\u001b[39;00m\n\u001b[0;32m   4916\u001b[0m \u001b[38;5;124;03m    \"\"\"\u001b[39;00m\n\u001b[0;32m   4917\u001b[0m     \u001b[38;5;28;01mreturn\u001b[39;00m \u001b[43mSeriesApply\u001b[49m\u001b[43m(\u001b[49m\n\u001b[0;32m   4918\u001b[0m \u001b[43m        \u001b[49m\u001b[38;5;28;43mself\u001b[39;49m\u001b[43m,\u001b[49m\n\u001b[0;32m   4919\u001b[0m \u001b[43m        \u001b[49m\u001b[43mfunc\u001b[49m\u001b[43m,\u001b[49m\n\u001b[0;32m   4920\u001b[0m \u001b[43m        \u001b[49m\u001b[43mconvert_dtype\u001b[49m\u001b[38;5;241;43m=\u001b[39;49m\u001b[43mconvert_dtype\u001b[49m\u001b[43m,\u001b[49m\n\u001b[0;32m   4921\u001b[0m \u001b[43m        \u001b[49m\u001b[43mby_row\u001b[49m\u001b[38;5;241;43m=\u001b[39;49m\u001b[43mby_row\u001b[49m\u001b[43m,\u001b[49m\n\u001b[0;32m   4922\u001b[0m \u001b[43m        \u001b[49m\u001b[43margs\u001b[49m\u001b[38;5;241;43m=\u001b[39;49m\u001b[43margs\u001b[49m\u001b[43m,\u001b[49m\n\u001b[0;32m   4923\u001b[0m \u001b[43m        \u001b[49m\u001b[43mkwargs\u001b[49m\u001b[38;5;241;43m=\u001b[39;49m\u001b[43mkwargs\u001b[49m\u001b[43m,\u001b[49m\n\u001b[1;32m-> 4924\u001b[0m \u001b[43m    \u001b[49m\u001b[43m)\u001b[49m\u001b[38;5;241;43m.\u001b[39;49m\u001b[43mapply\u001b[49m\u001b[43m(\u001b[49m\u001b[43m)\u001b[49m\n",
      "File \u001b[1;32m~\\AppData\\Local\\Programs\\Python\\Python312\\Lib\\site-packages\\pandas\\core\\apply.py:1427\u001b[0m, in \u001b[0;36mSeriesApply.apply\u001b[1;34m(self)\u001b[0m\n\u001b[0;32m   1424\u001b[0m     \u001b[38;5;28;01mreturn\u001b[39;00m \u001b[38;5;28mself\u001b[39m\u001b[38;5;241m.\u001b[39mapply_compat()\n\u001b[0;32m   1426\u001b[0m \u001b[38;5;66;03m# self.func is Callable\u001b[39;00m\n\u001b[1;32m-> 1427\u001b[0m \u001b[38;5;28;01mreturn\u001b[39;00m \u001b[38;5;28;43mself\u001b[39;49m\u001b[38;5;241;43m.\u001b[39;49m\u001b[43mapply_standard\u001b[49m\u001b[43m(\u001b[49m\u001b[43m)\u001b[49m\n",
      "File \u001b[1;32m~\\AppData\\Local\\Programs\\Python\\Python312\\Lib\\site-packages\\pandas\\core\\apply.py:1507\u001b[0m, in \u001b[0;36mSeriesApply.apply_standard\u001b[1;34m(self)\u001b[0m\n\u001b[0;32m   1501\u001b[0m \u001b[38;5;66;03m# row-wise access\u001b[39;00m\n\u001b[0;32m   1502\u001b[0m \u001b[38;5;66;03m# apply doesn't have a `na_action` keyword and for backward compat reasons\u001b[39;00m\n\u001b[0;32m   1503\u001b[0m \u001b[38;5;66;03m# we need to give `na_action=\"ignore\"` for categorical data.\u001b[39;00m\n\u001b[0;32m   1504\u001b[0m \u001b[38;5;66;03m# TODO: remove the `na_action=\"ignore\"` when that default has been changed in\u001b[39;00m\n\u001b[0;32m   1505\u001b[0m \u001b[38;5;66;03m#  Categorical (GH51645).\u001b[39;00m\n\u001b[0;32m   1506\u001b[0m action \u001b[38;5;241m=\u001b[39m \u001b[38;5;124m\"\u001b[39m\u001b[38;5;124mignore\u001b[39m\u001b[38;5;124m\"\u001b[39m \u001b[38;5;28;01mif\u001b[39;00m \u001b[38;5;28misinstance\u001b[39m(obj\u001b[38;5;241m.\u001b[39mdtype, CategoricalDtype) \u001b[38;5;28;01melse\u001b[39;00m \u001b[38;5;28;01mNone\u001b[39;00m\n\u001b[1;32m-> 1507\u001b[0m mapped \u001b[38;5;241m=\u001b[39m \u001b[43mobj\u001b[49m\u001b[38;5;241;43m.\u001b[39;49m\u001b[43m_map_values\u001b[49m\u001b[43m(\u001b[49m\n\u001b[0;32m   1508\u001b[0m \u001b[43m    \u001b[49m\u001b[43mmapper\u001b[49m\u001b[38;5;241;43m=\u001b[39;49m\u001b[43mcurried\u001b[49m\u001b[43m,\u001b[49m\u001b[43m \u001b[49m\u001b[43mna_action\u001b[49m\u001b[38;5;241;43m=\u001b[39;49m\u001b[43maction\u001b[49m\u001b[43m,\u001b[49m\u001b[43m \u001b[49m\u001b[43mconvert\u001b[49m\u001b[38;5;241;43m=\u001b[39;49m\u001b[38;5;28;43mself\u001b[39;49m\u001b[38;5;241;43m.\u001b[39;49m\u001b[43mconvert_dtype\u001b[49m\n\u001b[0;32m   1509\u001b[0m \u001b[43m\u001b[49m\u001b[43m)\u001b[49m\n\u001b[0;32m   1511\u001b[0m \u001b[38;5;28;01mif\u001b[39;00m \u001b[38;5;28mlen\u001b[39m(mapped) \u001b[38;5;129;01mand\u001b[39;00m \u001b[38;5;28misinstance\u001b[39m(mapped[\u001b[38;5;241m0\u001b[39m], ABCSeries):\n\u001b[0;32m   1512\u001b[0m     \u001b[38;5;66;03m# GH#43986 Need to do list(mapped) in order to get treated as nested\u001b[39;00m\n\u001b[0;32m   1513\u001b[0m     \u001b[38;5;66;03m#  See also GH#25959 regarding EA support\u001b[39;00m\n\u001b[0;32m   1514\u001b[0m     \u001b[38;5;28;01mreturn\u001b[39;00m obj\u001b[38;5;241m.\u001b[39m_constructor_expanddim(\u001b[38;5;28mlist\u001b[39m(mapped), index\u001b[38;5;241m=\u001b[39mobj\u001b[38;5;241m.\u001b[39mindex)\n",
      "File \u001b[1;32m~\\AppData\\Local\\Programs\\Python\\Python312\\Lib\\site-packages\\pandas\\core\\base.py:921\u001b[0m, in \u001b[0;36mIndexOpsMixin._map_values\u001b[1;34m(self, mapper, na_action, convert)\u001b[0m\n\u001b[0;32m    918\u001b[0m \u001b[38;5;28;01mif\u001b[39;00m \u001b[38;5;28misinstance\u001b[39m(arr, ExtensionArray):\n\u001b[0;32m    919\u001b[0m     \u001b[38;5;28;01mreturn\u001b[39;00m arr\u001b[38;5;241m.\u001b[39mmap(mapper, na_action\u001b[38;5;241m=\u001b[39mna_action)\n\u001b[1;32m--> 921\u001b[0m \u001b[38;5;28;01mreturn\u001b[39;00m \u001b[43malgorithms\u001b[49m\u001b[38;5;241;43m.\u001b[39;49m\u001b[43mmap_array\u001b[49m\u001b[43m(\u001b[49m\u001b[43marr\u001b[49m\u001b[43m,\u001b[49m\u001b[43m \u001b[49m\u001b[43mmapper\u001b[49m\u001b[43m,\u001b[49m\u001b[43m \u001b[49m\u001b[43mna_action\u001b[49m\u001b[38;5;241;43m=\u001b[39;49m\u001b[43mna_action\u001b[49m\u001b[43m,\u001b[49m\u001b[43m \u001b[49m\u001b[43mconvert\u001b[49m\u001b[38;5;241;43m=\u001b[39;49m\u001b[43mconvert\u001b[49m\u001b[43m)\u001b[49m\n",
      "File \u001b[1;32m~\\AppData\\Local\\Programs\\Python\\Python312\\Lib\\site-packages\\pandas\\core\\algorithms.py:1743\u001b[0m, in \u001b[0;36mmap_array\u001b[1;34m(arr, mapper, na_action, convert)\u001b[0m\n\u001b[0;32m   1741\u001b[0m values \u001b[38;5;241m=\u001b[39m arr\u001b[38;5;241m.\u001b[39mastype(\u001b[38;5;28mobject\u001b[39m, copy\u001b[38;5;241m=\u001b[39m\u001b[38;5;28;01mFalse\u001b[39;00m)\n\u001b[0;32m   1742\u001b[0m \u001b[38;5;28;01mif\u001b[39;00m na_action \u001b[38;5;129;01mis\u001b[39;00m \u001b[38;5;28;01mNone\u001b[39;00m:\n\u001b[1;32m-> 1743\u001b[0m     \u001b[38;5;28;01mreturn\u001b[39;00m \u001b[43mlib\u001b[49m\u001b[38;5;241;43m.\u001b[39;49m\u001b[43mmap_infer\u001b[49m\u001b[43m(\u001b[49m\u001b[43mvalues\u001b[49m\u001b[43m,\u001b[49m\u001b[43m \u001b[49m\u001b[43mmapper\u001b[49m\u001b[43m,\u001b[49m\u001b[43m \u001b[49m\u001b[43mconvert\u001b[49m\u001b[38;5;241;43m=\u001b[39;49m\u001b[43mconvert\u001b[49m\u001b[43m)\u001b[49m\n\u001b[0;32m   1744\u001b[0m \u001b[38;5;28;01melse\u001b[39;00m:\n\u001b[0;32m   1745\u001b[0m     \u001b[38;5;28;01mreturn\u001b[39;00m lib\u001b[38;5;241m.\u001b[39mmap_infer_mask(\n\u001b[0;32m   1746\u001b[0m         values, mapper, mask\u001b[38;5;241m=\u001b[39misna(values)\u001b[38;5;241m.\u001b[39mview(np\u001b[38;5;241m.\u001b[39muint8), convert\u001b[38;5;241m=\u001b[39mconvert\n\u001b[0;32m   1747\u001b[0m     )\n",
      "File \u001b[1;32mlib.pyx:2972\u001b[0m, in \u001b[0;36mpandas._libs.lib.map_infer\u001b[1;34m()\u001b[0m\n",
      "Cell \u001b[1;32mIn[9], line 1\u001b[0m, in \u001b[0;36m<lambda>\u001b[1;34m(x)\u001b[0m\n\u001b[1;32m----> 1\u001b[0m fd[\u001b[38;5;124m'\u001b[39m\u001b[38;5;124mtext\u001b[39m\u001b[38;5;124m'\u001b[39m]\u001b[38;5;241m.\u001b[39mapply(\u001b[38;5;28;01mlambda\u001b[39;00m x: \u001b[43mtoken\u001b[49m(x))\n",
      "\u001b[1;31mNameError\u001b[0m: name 'token' is not defined"
     ]
    }
   ],
   "source": [
    "fd['text'].apply(lambda x: token(x))"
   ]
  },
  {
   "cell_type": "code",
   "execution_count": 55,
   "id": "652ca3e1-067a-497a-ac30-37e36f3507e1",
   "metadata": {},
   "outputs": [
    {
     "data": {
      "text/html": [
       "<div>\n",
       "<style scoped>\n",
       "    .dataframe tbody tr th:only-of-type {\n",
       "        vertical-align: middle;\n",
       "    }\n",
       "\n",
       "    .dataframe tbody tr th {\n",
       "        vertical-align: top;\n",
       "    }\n",
       "\n",
       "    .dataframe thead th {\n",
       "        text-align: right;\n",
       "    }\n",
       "</style>\n",
       "<table border=\"1\" class=\"dataframe\">\n",
       "  <thead>\n",
       "    <tr style=\"text-align: right;\">\n",
       "      <th></th>\n",
       "      <th>artist</th>\n",
       "      <th>song</th>\n",
       "      <th>text</th>\n",
       "      <th>extracted_song_id</th>\n",
       "      <th>user_id</th>\n",
       "      <th>listen_count</th>\n",
       "    </tr>\n",
       "  </thead>\n",
       "  <tbody>\n",
       "    <tr>\n",
       "      <th>0</th>\n",
       "      <td>Ella Fitzgerald</td>\n",
       "      <td>Happiness Is A Thing Called Joe</td>\n",
       "      <td>It seem like happiness is jus' a thing called ...</td>\n",
       "      <td>6dy6iJLDPWYlYIJLNfIjYJ</td>\n",
       "      <td>user_69</td>\n",
       "      <td>63</td>\n",
       "    </tr>\n",
       "    <tr>\n",
       "      <th>1</th>\n",
       "      <td>Barbra Streisand</td>\n",
       "      <td>At The Same Time</td>\n",
       "      <td>Think of all the hearts  \\r\\nBeating in the wo...</td>\n",
       "      <td>0SdtnLzfhMnIsGcmhr6ac8</td>\n",
       "      <td>user_45</td>\n",
       "      <td>32</td>\n",
       "    </tr>\n",
       "    <tr>\n",
       "      <th>2</th>\n",
       "      <td>Chaka Khan</td>\n",
       "      <td>Clouds</td>\n",
       "      <td>Clouds  \\r\\nDifferent shapes and sizes  \\r\\nHi...</td>\n",
       "      <td>1opSxQP8KkdKOGvbvlmuIV</td>\n",
       "      <td>user_92</td>\n",
       "      <td>99</td>\n",
       "    </tr>\n",
       "    <tr>\n",
       "      <th>3</th>\n",
       "      <td>Weird Al Yankovic</td>\n",
       "      <td>Bob</td>\n",
       "      <td>I, man, am regal a German am I  \\r\\nNever odd ...</td>\n",
       "      <td>2deME7JS3NAKCVJqm1l0Vs</td>\n",
       "      <td>user_62</td>\n",
       "      <td>55</td>\n",
       "    </tr>\n",
       "    <tr>\n",
       "      <th>4</th>\n",
       "      <td>Harry Connick, Jr.</td>\n",
       "      <td>Something Was Missing</td>\n",
       "      <td>I've made me a fortune  \\r\\n(That fortune made...</td>\n",
       "      <td>6UVM7drZAN6oteWCdqtHAp</td>\n",
       "      <td>user_99</td>\n",
       "      <td>90</td>\n",
       "    </tr>\n",
       "  </tbody>\n",
       "</table>\n",
       "</div>"
      ],
      "text/plain": [
       "               artist                             song  \\\n",
       "0     Ella Fitzgerald  Happiness Is A Thing Called Joe   \n",
       "1    Barbra Streisand                 At The Same Time   \n",
       "2          Chaka Khan                           Clouds   \n",
       "3   Weird Al Yankovic                              Bob   \n",
       "4  Harry Connick, Jr.            Something Was Missing   \n",
       "\n",
       "                                                text       extracted_song_id  \\\n",
       "0  It seem like happiness is jus' a thing called ...  6dy6iJLDPWYlYIJLNfIjYJ   \n",
       "1  Think of all the hearts  \\r\\nBeating in the wo...  0SdtnLzfhMnIsGcmhr6ac8   \n",
       "2  Clouds  \\r\\nDifferent shapes and sizes  \\r\\nHi...  1opSxQP8KkdKOGvbvlmuIV   \n",
       "3  I, man, am regal a German am I  \\r\\nNever odd ...  2deME7JS3NAKCVJqm1l0Vs   \n",
       "4  I've made me a fortune  \\r\\n(That fortune made...  6UVM7drZAN6oteWCdqtHAp   \n",
       "\n",
       "   user_id  listen_count  \n",
       "0  user_69            63  \n",
       "1  user_45            32  \n",
       "2  user_92            99  \n",
       "3  user_62            55  \n",
       "4  user_99            90  "
      ]
     },
     "execution_count": 55,
     "metadata": {},
     "output_type": "execute_result"
    }
   ],
   "source": [
    "df.head(5)"
   ]
  },
  {
   "cell_type": "code",
   "execution_count": 103,
   "id": "43149d3f-15b7-4368-bb78-7e292ff2760b",
   "metadata": {},
   "outputs": [
    {
     "data": {
      "text/html": [
       "<div>\n",
       "<style scoped>\n",
       "    .dataframe tbody tr th:only-of-type {\n",
       "        vertical-align: middle;\n",
       "    }\n",
       "\n",
       "    .dataframe tbody tr th {\n",
       "        vertical-align: top;\n",
       "    }\n",
       "\n",
       "    .dataframe thead th {\n",
       "        text-align: right;\n",
       "    }\n",
       "</style>\n",
       "<table border=\"1\" class=\"dataframe\">\n",
       "  <thead>\n",
       "    <tr style=\"text-align: right;\">\n",
       "      <th></th>\n",
       "      <th>artist</th>\n",
       "      <th>song</th>\n",
       "      <th>text</th>\n",
       "    </tr>\n",
       "  </thead>\n",
       "  <tbody>\n",
       "    <tr>\n",
       "      <th>0</th>\n",
       "      <td>Widespread Panic</td>\n",
       "      <td>Weight Of The World</td>\n",
       "      <td>Woman, she's moving to the weight of the world...</td>\n",
       "    </tr>\n",
       "    <tr>\n",
       "      <th>1</th>\n",
       "      <td>Les Miserables</td>\n",
       "      <td>The Bargain</td>\n",
       "      <td>[Valjean and Young Cosette arrive at the now e...</td>\n",
       "    </tr>\n",
       "    <tr>\n",
       "      <th>2</th>\n",
       "      <td>America</td>\n",
       "      <td>Chasing The Rainbow</td>\n",
       "      <td>Sat here thinking about my heart  \\r\\nAll of t...</td>\n",
       "    </tr>\n",
       "    <tr>\n",
       "      <th>3</th>\n",
       "      <td>U2</td>\n",
       "      <td>Love Rescue Me</td>\n",
       "      <td>Love rescue me  \\r\\nCome forth and speak to me...</td>\n",
       "    </tr>\n",
       "    <tr>\n",
       "      <th>4</th>\n",
       "      <td>Emmylou Harris</td>\n",
       "      <td>J'ai Fait Tout</td>\n",
       "      <td>J'ai fait tout, j'ai fait tout  \\r\\nCe que j'a...</td>\n",
       "    </tr>\n",
       "    <tr>\n",
       "      <th>...</th>\n",
       "      <td>...</td>\n",
       "      <td>...</td>\n",
       "      <td>...</td>\n",
       "    </tr>\n",
       "    <tr>\n",
       "      <th>2995</th>\n",
       "      <td>Devo</td>\n",
       "      <td>Time Out For Fun</td>\n",
       "      <td>Hello,  \\r\\n  \\r\\nThis is devo  \\r\\nWe would l...</td>\n",
       "    </tr>\n",
       "    <tr>\n",
       "      <th>2996</th>\n",
       "      <td>Neil Young</td>\n",
       "      <td>Danger Bird</td>\n",
       "      <td>Danger bird, he flies alone  \\r\\nAnd he rides ...</td>\n",
       "    </tr>\n",
       "    <tr>\n",
       "      <th>2997</th>\n",
       "      <td>Yelawolf</td>\n",
       "      <td>The Last Song</td>\n",
       "      <td>Everybody's asking me lately where I'm from  \\...</td>\n",
       "    </tr>\n",
       "    <tr>\n",
       "      <th>2998</th>\n",
       "      <td>Allman Brothers Band</td>\n",
       "      <td>Mean Woman Blues</td>\n",
       "      <td>Well I love you baby, but you won't give me th...</td>\n",
       "    </tr>\n",
       "    <tr>\n",
       "      <th>2999</th>\n",
       "      <td>Enrique Iglesias</td>\n",
       "      <td>Sometime When We Touch</td>\n",
       "      <td>You ask me if I love you, and I choke on my re...</td>\n",
       "    </tr>\n",
       "  </tbody>\n",
       "</table>\n",
       "<p>3000 rows × 3 columns</p>\n",
       "</div>"
      ],
      "text/plain": [
       "                    artist                    song  \\\n",
       "0         Widespread Panic     Weight Of The World   \n",
       "1           Les Miserables             The Bargain   \n",
       "2                  America     Chasing The Rainbow   \n",
       "3                       U2          Love Rescue Me   \n",
       "4           Emmylou Harris          J'ai Fait Tout   \n",
       "...                    ...                     ...   \n",
       "2995                  Devo        Time Out For Fun   \n",
       "2996            Neil Young             Danger Bird   \n",
       "2997              Yelawolf           The Last Song   \n",
       "2998  Allman Brothers Band        Mean Woman Blues   \n",
       "2999      Enrique Iglesias  Sometime When We Touch   \n",
       "\n",
       "                                                   text  \n",
       "0     Woman, she's moving to the weight of the world...  \n",
       "1     [Valjean and Young Cosette arrive at the now e...  \n",
       "2     Sat here thinking about my heart  \\r\\nAll of t...  \n",
       "3     Love rescue me  \\r\\nCome forth and speak to me...  \n",
       "4     J'ai fait tout, j'ai fait tout  \\r\\nCe que j'a...  \n",
       "...                                                 ...  \n",
       "2995  Hello,  \\r\\n  \\r\\nThis is devo  \\r\\nWe would l...  \n",
       "2996  Danger bird, he flies alone  \\r\\nAnd he rides ...  \n",
       "2997  Everybody's asking me lately where I'm from  \\...  \n",
       "2998  Well I love you baby, but you won't give me th...  \n",
       "2999  You ask me if I love you, and I choke on my re...  \n",
       "\n",
       "[3000 rows x 3 columns]"
      ]
     },
     "execution_count": 103,
     "metadata": {},
     "output_type": "execute_result"
    }
   ],
   "source": [
    "df"
   ]
  },
  {
   "cell_type": "code",
   "execution_count": 56,
   "id": "b43f5451-417a-4034-ab2a-f27b3c7f147e",
   "metadata": {},
   "outputs": [],
   "source": [
    "df['text'] = df['text'].str.lower().replace(r'^\\w\\n',' ').replace('\\n',' ', regex=True)"
   ]
  },
  {
   "cell_type": "code",
   "execution_count": 57,
   "id": "b2e1dc4f-0d29-41b7-a946-1efcea8220af",
   "metadata": {},
   "outputs": [
    {
     "data": {
      "text/html": [
       "<div>\n",
       "<style scoped>\n",
       "    .dataframe tbody tr th:only-of-type {\n",
       "        vertical-align: middle;\n",
       "    }\n",
       "\n",
       "    .dataframe tbody tr th {\n",
       "        vertical-align: top;\n",
       "    }\n",
       "\n",
       "    .dataframe thead th {\n",
       "        text-align: right;\n",
       "    }\n",
       "</style>\n",
       "<table border=\"1\" class=\"dataframe\">\n",
       "  <thead>\n",
       "    <tr style=\"text-align: right;\">\n",
       "      <th></th>\n",
       "      <th>artist</th>\n",
       "      <th>song</th>\n",
       "      <th>text</th>\n",
       "      <th>extracted_song_id</th>\n",
       "      <th>user_id</th>\n",
       "      <th>listen_count</th>\n",
       "    </tr>\n",
       "  </thead>\n",
       "  <tbody>\n",
       "    <tr>\n",
       "      <th>0</th>\n",
       "      <td>Ella Fitzgerald</td>\n",
       "      <td>Happiness Is A Thing Called Joe</td>\n",
       "      <td>it seem like happiness is jus' a thing called ...</td>\n",
       "      <td>6dy6iJLDPWYlYIJLNfIjYJ</td>\n",
       "      <td>user_69</td>\n",
       "      <td>63</td>\n",
       "    </tr>\n",
       "    <tr>\n",
       "      <th>1</th>\n",
       "      <td>Barbra Streisand</td>\n",
       "      <td>At The Same Time</td>\n",
       "      <td>think of all the hearts  \\r beating in the wor...</td>\n",
       "      <td>0SdtnLzfhMnIsGcmhr6ac8</td>\n",
       "      <td>user_45</td>\n",
       "      <td>32</td>\n",
       "    </tr>\n",
       "    <tr>\n",
       "      <th>2</th>\n",
       "      <td>Chaka Khan</td>\n",
       "      <td>Clouds</td>\n",
       "      <td>clouds  \\r different shapes and sizes  \\r hidi...</td>\n",
       "      <td>1opSxQP8KkdKOGvbvlmuIV</td>\n",
       "      <td>user_92</td>\n",
       "      <td>99</td>\n",
       "    </tr>\n",
       "    <tr>\n",
       "      <th>3</th>\n",
       "      <td>Weird Al Yankovic</td>\n",
       "      <td>Bob</td>\n",
       "      <td>i, man, am regal a german am i  \\r never odd o...</td>\n",
       "      <td>2deME7JS3NAKCVJqm1l0Vs</td>\n",
       "      <td>user_62</td>\n",
       "      <td>55</td>\n",
       "    </tr>\n",
       "    <tr>\n",
       "      <th>4</th>\n",
       "      <td>Harry Connick, Jr.</td>\n",
       "      <td>Something Was Missing</td>\n",
       "      <td>i've made me a fortune  \\r (that fortune made ...</td>\n",
       "      <td>6UVM7drZAN6oteWCdqtHAp</td>\n",
       "      <td>user_99</td>\n",
       "      <td>90</td>\n",
       "    </tr>\n",
       "    <tr>\n",
       "      <th>...</th>\n",
       "      <td>...</td>\n",
       "      <td>...</td>\n",
       "      <td>...</td>\n",
       "      <td>...</td>\n",
       "      <td>...</td>\n",
       "      <td>...</td>\n",
       "    </tr>\n",
       "    <tr>\n",
       "      <th>2995</th>\n",
       "      <td>King Crimson</td>\n",
       "      <td>Heartbeat</td>\n",
       "      <td>i need to feel your heartbeat heartbeat  \\r so...</td>\n",
       "      <td>5esztZeiWJF8dYixCubgai</td>\n",
       "      <td>user_99</td>\n",
       "      <td>56</td>\n",
       "    </tr>\n",
       "    <tr>\n",
       "      <th>2996</th>\n",
       "      <td>Air Supply</td>\n",
       "      <td>Stars In Your Eyes</td>\n",
       "      <td>we are civilized and free from all confusion  ...</td>\n",
       "      <td>2kul5Vj85iJV57lOZ25vS2</td>\n",
       "      <td>user_41</td>\n",
       "      <td>20</td>\n",
       "    </tr>\n",
       "    <tr>\n",
       "      <th>2997</th>\n",
       "      <td>Janis Joplin</td>\n",
       "      <td>Flower In The Sun</td>\n",
       "      <td>oh please don't you think baby that i am wrong...</td>\n",
       "      <td>3O59UWV5NDKZ6Td64Acpzv</td>\n",
       "      <td>user_45</td>\n",
       "      <td>8</td>\n",
       "    </tr>\n",
       "    <tr>\n",
       "      <th>2998</th>\n",
       "      <td>Wiz Khalifa</td>\n",
       "      <td>Fly solo</td>\n",
       "      <td>[chorus]  \\r i had a dream that the whole worl...</td>\n",
       "      <td>6qa6a2fsCbLMkSIoZEfvTJ</td>\n",
       "      <td>user_31</td>\n",
       "      <td>97</td>\n",
       "    </tr>\n",
       "    <tr>\n",
       "      <th>2999</th>\n",
       "      <td>Devo</td>\n",
       "      <td>Pink Pussycat</td>\n",
       "      <td>pink pussycat  \\r where are you  \\r pink pussy...</td>\n",
       "      <td>3Lfi3mdVytpWxe2SrGBN1b</td>\n",
       "      <td>user_2</td>\n",
       "      <td>39</td>\n",
       "    </tr>\n",
       "  </tbody>\n",
       "</table>\n",
       "<p>3000 rows × 6 columns</p>\n",
       "</div>"
      ],
      "text/plain": [
       "                  artist                             song  \\\n",
       "0        Ella Fitzgerald  Happiness Is A Thing Called Joe   \n",
       "1       Barbra Streisand                 At The Same Time   \n",
       "2             Chaka Khan                           Clouds   \n",
       "3      Weird Al Yankovic                              Bob   \n",
       "4     Harry Connick, Jr.            Something Was Missing   \n",
       "...                  ...                              ...   \n",
       "2995        King Crimson                        Heartbeat   \n",
       "2996          Air Supply               Stars In Your Eyes   \n",
       "2997        Janis Joplin                Flower In The Sun   \n",
       "2998         Wiz Khalifa                         Fly solo   \n",
       "2999                Devo                    Pink Pussycat   \n",
       "\n",
       "                                                   text  \\\n",
       "0     it seem like happiness is jus' a thing called ...   \n",
       "1     think of all the hearts  \\r beating in the wor...   \n",
       "2     clouds  \\r different shapes and sizes  \\r hidi...   \n",
       "3     i, man, am regal a german am i  \\r never odd o...   \n",
       "4     i've made me a fortune  \\r (that fortune made ...   \n",
       "...                                                 ...   \n",
       "2995  i need to feel your heartbeat heartbeat  \\r so...   \n",
       "2996  we are civilized and free from all confusion  ...   \n",
       "2997  oh please don't you think baby that i am wrong...   \n",
       "2998  [chorus]  \\r i had a dream that the whole worl...   \n",
       "2999  pink pussycat  \\r where are you  \\r pink pussy...   \n",
       "\n",
       "           extracted_song_id  user_id  listen_count  \n",
       "0     6dy6iJLDPWYlYIJLNfIjYJ  user_69            63  \n",
       "1     0SdtnLzfhMnIsGcmhr6ac8  user_45            32  \n",
       "2     1opSxQP8KkdKOGvbvlmuIV  user_92            99  \n",
       "3     2deME7JS3NAKCVJqm1l0Vs  user_62            55  \n",
       "4     6UVM7drZAN6oteWCdqtHAp  user_99            90  \n",
       "...                      ...      ...           ...  \n",
       "2995  5esztZeiWJF8dYixCubgai  user_99            56  \n",
       "2996  2kul5Vj85iJV57lOZ25vS2  user_41            20  \n",
       "2997  3O59UWV5NDKZ6Td64Acpzv  user_45             8  \n",
       "2998  6qa6a2fsCbLMkSIoZEfvTJ  user_31            97  \n",
       "2999  3Lfi3mdVytpWxe2SrGBN1b   user_2            39  \n",
       "\n",
       "[3000 rows x 6 columns]"
      ]
     },
     "execution_count": 57,
     "metadata": {},
     "output_type": "execute_result"
    }
   ],
   "source": [
    "df"
   ]
  },
  {
   "cell_type": "code",
   "execution_count": 59,
   "id": "b1df8f51-1506-4f69-a201-eecf076a94c0",
   "metadata": {},
   "outputs": [],
   "source": [
    "import nltk\n",
    "from nltk.stem.porter import PorterStemmer\n",
    "# nltk.download('punkt') \n",
    "# nltk.download('wordnet') \n",
    "# nltk.download('stopwords')"
   ]
  },
  {
   "cell_type": "code",
   "execution_count": 60,
   "id": "7fadef7f-6347-4d6f-907c-87d019f3e1b8",
   "metadata": {},
   "outputs": [],
   "source": [
    "stemmer = PorterStemmer()"
   ]
  },
  {
   "cell_type": "code",
   "execution_count": 108,
   "id": "286908ab-fd32-4eb6-bdb4-5cfb2632b25e",
   "metadata": {},
   "outputs": [
    {
     "name": "stderr",
     "output_type": "stream",
     "text": [
      "[nltk_data] Downloading package punkt_tab to\n",
      "[nltk_data]     C:\\Users\\GAGAN\\AppData\\Roaming\\nltk_data...\n",
      "[nltk_data]   Package punkt_tab is already up-to-date!\n"
     ]
    },
    {
     "data": {
      "text/plain": [
       "True"
      ]
     },
     "execution_count": 108,
     "metadata": {},
     "output_type": "execute_result"
    }
   ],
   "source": [
    "import nltk\n",
    "nltk.download('punkt_tab')\n"
   ]
  },
  {
   "cell_type": "code",
   "execution_count": 140,
   "id": "3cf85477-f519-47f2-b6d9-6eda1f5a2736",
   "metadata": {},
   "outputs": [],
   "source": [
    "def token(txt):\n",
    "    token = nltk.word_tokenize(txt)\n",
    "    a = [stemmer.stem(w) for w in token]\n",
    "    return \" \".join(a)"
   ]
  },
  {
   "cell_type": "code",
   "execution_count": 62,
   "id": "f4315c9a-91bc-46d1-b318-b98b8429d1b6",
   "metadata": {},
   "outputs": [
    {
     "data": {
      "text/plain": [
       "'you are beauti , in wonder of great'"
      ]
     },
     "execution_count": 62,
     "metadata": {},
     "output_type": "execute_result"
    }
   ],
   "source": [
    "token(\"you are beautiful, in wonderful of greatness\")"
   ]
  },
  {
   "cell_type": "code",
   "execution_count": 141,
   "id": "6ec1cb94-45e9-4adc-985a-534ec46479d9",
   "metadata": {},
   "outputs": [
    {
     "data": {
      "text/plain": [
       "0       it seem like happi is ju ' a thing call joe he...\n",
       "1       think of all the heart beat in the world at th...\n",
       "2       cloud differ shape and size hide the horizon c...\n",
       "3       i , man , am regal a german am i never odd or ...\n",
       "4       i 've made me a fortun ( that fortun made ten ...\n",
       "                              ...                        \n",
       "2995    i need to feel your heartbeat heartbeat so clo...\n",
       "2996    we are civil and free from all confus and yet ...\n",
       "2997    oh pleas do n't you think babi that i am wrong...\n",
       "2998    [ choru ] i had a dream that the whole world w...\n",
       "2999    pink pussycat where are you pink pussycat i 'm...\n",
       "Name: text, Length: 3000, dtype: object"
      ]
     },
     "execution_count": 141,
     "metadata": {},
     "output_type": "execute_result"
    }
   ],
   "source": [
    "fd['text'].apply(lambda x: token(x))"
   ]
  },
  {
   "cell_type": "code",
   "execution_count": 142,
   "id": "7a5b9461-c15e-415c-be57-8ec6d995ce54",
   "metadata": {},
   "outputs": [],
   "source": [
    "from sklearn.feature_extraction.text import TfidfVectorizer\n",
    "from sklearn.metrics.pairwise import cosine_similarity"
   ]
  },
  {
   "cell_type": "code",
   "execution_count": 143,
   "id": "f8fe4825-f234-4413-aee6-33c4e527b35a",
   "metadata": {},
   "outputs": [],
   "source": [
    "tfid = TfidfVectorizer(analyzer='word', stop_words='english')"
   ]
  },
  {
   "cell_type": "code",
   "execution_count": 144,
   "id": "3610e22b-b9ad-41f8-85e7-1d5027dda6f1",
   "metadata": {},
   "outputs": [],
   "source": [
    "matrix = tfid.fit_transform(df['text'])"
   ]
  },
  {
   "cell_type": "code",
   "execution_count": 145,
   "id": "579e6b2a-df58-4588-a839-0de54e10389d",
   "metadata": {},
   "outputs": [],
   "source": [
    "similar = cosine_similarity(matrix)"
   ]
  },
  {
   "cell_type": "code",
   "execution_count": 146,
   "id": "c8ad779c-bddf-4f87-9282-5ef06513560c",
   "metadata": {},
   "outputs": [
    {
     "data": {
      "text/plain": [
       "array([1.        , 0.01608367, 0.01231424, ..., 0.01607081, 0.04210523,\n",
       "       0.00364936])"
      ]
     },
     "execution_count": 146,
     "metadata": {},
     "output_type": "execute_result"
    }
   ],
   "source": [
    "similar[0]"
   ]
  },
  {
   "cell_type": "code",
   "execution_count": 69,
   "id": "cee7e855-ff98-44de-945f-fb697546a0e6",
   "metadata": {},
   "outputs": [
    {
     "ename": "IndexError",
     "evalue": "index 0 is out of bounds for axis 0 with size 0",
     "output_type": "error",
     "traceback": [
      "\u001b[1;31m---------------------------------------------------------------------------\u001b[0m",
      "\u001b[1;31mIndexError\u001b[0m                                Traceback (most recent call last)",
      "Cell \u001b[1;32mIn[69], line 1\u001b[0m\n\u001b[1;32m----> 1\u001b[0m \u001b[43mdf\u001b[49m\u001b[43m[\u001b[49m\u001b[43mdf\u001b[49m\u001b[43m[\u001b[49m\u001b[38;5;124;43m'\u001b[39;49m\u001b[38;5;124;43msong\u001b[39;49m\u001b[38;5;124;43m'\u001b[39;49m\u001b[43m]\u001b[49m\u001b[38;5;241;43m==\u001b[39;49m\u001b[38;5;124;43m'\u001b[39;49m\u001b[38;5;124;43mWeight Of The World\u001b[39;49m\u001b[38;5;124;43m'\u001b[39;49m\u001b[43m]\u001b[49m\u001b[38;5;241;43m.\u001b[39;49m\u001b[43mindex\u001b[49m\u001b[43m[\u001b[49m\u001b[38;5;241;43m0\u001b[39;49m\u001b[43m]\u001b[49m\n",
      "File \u001b[1;32m~\\AppData\\Local\\Programs\\Python\\Python312\\Lib\\site-packages\\pandas\\core\\indexes\\base.py:5389\u001b[0m, in \u001b[0;36mIndex.__getitem__\u001b[1;34m(self, key)\u001b[0m\n\u001b[0;32m   5386\u001b[0m \u001b[38;5;28;01mif\u001b[39;00m is_integer(key) \u001b[38;5;129;01mor\u001b[39;00m is_float(key):\n\u001b[0;32m   5387\u001b[0m     \u001b[38;5;66;03m# GH#44051 exclude bool, which would return a 2d ndarray\u001b[39;00m\n\u001b[0;32m   5388\u001b[0m     key \u001b[38;5;241m=\u001b[39m com\u001b[38;5;241m.\u001b[39mcast_scalar_indexer(key)\n\u001b[1;32m-> 5389\u001b[0m     \u001b[38;5;28;01mreturn\u001b[39;00m \u001b[43mgetitem\u001b[49m\u001b[43m(\u001b[49m\u001b[43mkey\u001b[49m\u001b[43m)\u001b[49m\n\u001b[0;32m   5391\u001b[0m \u001b[38;5;28;01mif\u001b[39;00m \u001b[38;5;28misinstance\u001b[39m(key, \u001b[38;5;28mslice\u001b[39m):\n\u001b[0;32m   5392\u001b[0m     \u001b[38;5;66;03m# This case is separated from the conditional above to avoid\u001b[39;00m\n\u001b[0;32m   5393\u001b[0m     \u001b[38;5;66;03m# pessimization com.is_bool_indexer and ndim checks.\u001b[39;00m\n\u001b[0;32m   5394\u001b[0m     \u001b[38;5;28;01mreturn\u001b[39;00m \u001b[38;5;28mself\u001b[39m\u001b[38;5;241m.\u001b[39m_getitem_slice(key)\n",
      "\u001b[1;31mIndexError\u001b[0m: index 0 is out of bounds for axis 0 with size 0"
     ]
    }
   ],
   "source": [
    "df[df['song']=='Weight Of The World'].index[0]"
   ]
  },
  {
   "cell_type": "code",
   "execution_count": 70,
   "id": "7e6f03f4-0a52-4d92-8bb9-058b020895f4",
   "metadata": {},
   "outputs": [],
   "source": [
    "def recommender (song_name):\n",
    "    idx = df[df['song']== song_name].index[0]\n",
    "    distance = sorted(list(enumerate(similar[idx])), reverse=True, key = lambda x: x[1])\n",
    "    song = []\n",
    "    for s_id in distance[1:5]:\n",
    "        song.append(df.iloc[s_id[0]].song)\n",
    "    return song"
   ]
  },
  {
   "cell_type": "code",
   "execution_count": 72,
   "id": "58d8e613-daab-4fc5-9c85-bdbeb28dcdd1",
   "metadata": {},
   "outputs": [
    {
     "data": {
      "text/plain": [
       "[\"I Keep Goin' Back To Joe's\",\n",
       " 'Gypsy, Joe And Me',\n",
       " 'Hey Joe',\n",
       " 'Little Did We Know']"
      ]
     },
     "execution_count": 72,
     "metadata": {},
     "output_type": "execute_result"
    }
   ],
   "source": [
    "recommender(\"Happiness Is A Thing Called Joe\")"
   ]
  },
  {
   "cell_type": "code",
   "execution_count": 73,
   "id": "e8163e73-f630-4704-b219-bfeb3f5eb201",
   "metadata": {},
   "outputs": [],
   "source": [
    "import pickle"
   ]
  },
  {
   "cell_type": "code",
   "execution_count": 147,
   "id": "6c2144f4-3f6e-4eb2-a94c-5982c377309c",
   "metadata": {},
   "outputs": [],
   "source": [
    "pickle.dump(similar, open(\"similar_needed\", \"wb\"))"
   ]
  },
  {
   "cell_type": "code",
   "execution_count": 148,
   "id": "c5cf3fc0-c564-44c6-9438-0f624bb6fc53",
   "metadata": {},
   "outputs": [],
   "source": [
    "pickle.dump(fd, open(\"required_fd\", \"wb\"))"
   ]
  },
  {
   "cell_type": "code",
   "execution_count": 10,
   "id": "c4cb77db-4f10-450f-8384-d49f0cc921ef",
   "metadata": {},
   "outputs": [],
   "source": [
    "import numpy as np\n",
    "import pandas as pd\n",
    "import matplotlib.pyplot as plt\n",
    "import seaborn as sns"
   ]
  },
  {
   "cell_type": "code",
   "execution_count": 11,
   "id": "7cc6f7e9-9cdc-4662-8ce0-21340b609998",
   "metadata": {},
   "outputs": [],
   "source": [
    "from scipy.sparse import csr_matrix"
   ]
  },
  {
   "cell_type": "code",
   "execution_count": 12,
   "id": "ff9e19ff-3935-45b4-b144-f2f5a2388a39",
   "metadata": {},
   "outputs": [],
   "source": [
    "from surprise import SVD\n",
    "from surprise import Dataset, Reader\n",
    "from surprise import accuracy\n",
    "from surprise.model_selection import train_test_split\n",
    "from surprise.model_selection import GridSearchCV\n",
    "from surprise.model_selection import cross_validate"
   ]
  },
  {
   "cell_type": "code",
   "execution_count": 13,
   "id": "ab459a48-f638-4142-bda5-9ba2d406d2f9",
   "metadata": {},
   "outputs": [],
   "source": [
    "from scipy.sparse import csr_matrix"
   ]
  },
  {
   "cell_type": "code",
   "execution_count": 14,
   "id": "3ec20d49-e93e-43d5-b2d5-ac2e6f38990e",
   "metadata": {},
   "outputs": [],
   "source": [
    "from surprise import SVD\n",
    "from surprise import Dataset, Reader\n",
    "from surprise import accuracy\n",
    "from surprise.model_selection import train_test_split\n",
    "from surprise.model_selection import GridSearchCV\n",
    "from surprise.model_selection import cross_validate"
   ]
  },
  {
   "cell_type": "code",
   "execution_count": 15,
   "id": "cbdde04d-f689-47b7-aea3-3883701582b5",
   "metadata": {},
   "outputs": [],
   "source": [
    "song_user = fd.groupby('extracted_song_id')['user_id'].count()"
   ]
  },
  {
   "cell_type": "code",
   "execution_count": 16,
   "id": "693b37c5-7247-42c3-ad15-479463464742",
   "metadata": {},
   "outputs": [
    {
     "name": "stderr",
     "output_type": "stream",
     "text": [
      "C:\\Users\\GAGAN\\AppData\\Local\\Temp\\ipykernel_11616\\3754302880.py:2: UserWarning: \n",
      "\n",
      "`distplot` is a deprecated function and will be removed in seaborn v0.14.0.\n",
      "\n",
      "Please adapt your code to use either `displot` (a figure-level function with\n",
      "similar flexibility) or `histplot` (an axes-level function for histograms).\n",
      "\n",
      "For a guide to updating your code to use the new functions, please see\n",
      "https://gist.github.com/mwaskom/de44147ed2974457ad6372750bbe5751\n",
      "\n",
      "  sns.distplot(song_user.values, color='blue')\n"
     ]
    },
    {
     "data": {
      "image/png": "[encoded data removed]",
      "text/plain": [
       "<Figure size 1600x800 with 1 Axes>"
      ]
     },
     "metadata": {},
     "output_type": "display_data"
    }
   ],
   "source": [
    "plt.figure(figsize=(16, 8))\n",
    "sns.distplot(song_user.values, color='blue')\n",
    "plt.gca().spines['top'].set_visible(False)\n",
    "plt.gca().spines['right'].set_visible(False)\n",
    "plt.show();"
   ]
  },
  {
   "cell_type": "code",
   "execution_count": 17,
   "id": "f4cd44bf-c2e3-406f-a4f8-d6022f1f098a",
   "metadata": {},
   "outputs": [
    {
     "name": "stdout",
     "output_type": "stream",
     "text": [
      "A song is listened for an average of 1.000777907429016 users, with minimum 1 and maximum 2 users\n"
     ]
    }
   ],
   "source": [
    "print(f\"A song is listened for an average of {np.mean(song_user)} users, with minimum {np.min(song_user)} and maximum {np.max(song_user)} users\")"
   ]
  },
  {
   "cell_type": "code",
   "execution_count": 18,
   "id": "0fe43637-46b4-483f-8582-066871107acd",
   "metadata": {},
   "outputs": [
    {
     "data": {
      "text/plain": [
       "(3000, 6)"
      ]
     },
     "execution_count": 18,
     "metadata": {},
     "output_type": "execute_result"
    }
   ],
   "source": [
    "fd.shape"
   ]
  },
  {
   "cell_type": "code",
   "execution_count": 19,
   "id": "e75ab76c-b87b-4d04-8358-5ba9f13c527d",
   "metadata": {},
   "outputs": [
    {
     "data": {
      "text/html": [
       "<div>\n",
       "<style scoped>\n",
       "    .dataframe tbody tr th:only-of-type {\n",
       "        vertical-align: middle;\n",
       "    }\n",
       "\n",
       "    .dataframe tbody tr th {\n",
       "        vertical-align: top;\n",
       "    }\n",
       "\n",
       "    .dataframe thead th {\n",
       "        text-align: right;\n",
       "    }\n",
       "</style>\n",
       "<table border=\"1\" class=\"dataframe\">\n",
       "  <thead>\n",
       "    <tr style=\"text-align: right;\">\n",
       "      <th></th>\n",
       "      <th>artist</th>\n",
       "      <th>song</th>\n",
       "      <th>text</th>\n",
       "      <th>extracted_song_id</th>\n",
       "      <th>user_id</th>\n",
       "      <th>listen_count</th>\n",
       "    </tr>\n",
       "  </thead>\n",
       "  <tbody>\n",
       "    <tr>\n",
       "      <th>0</th>\n",
       "      <td>Ella Fitzgerald</td>\n",
       "      <td>Happiness Is A Thing Called Joe</td>\n",
       "      <td>it seem like happiness is jus' a thing called ...</td>\n",
       "      <td>6dy6iJLDPWYlYIJLNfIjYJ</td>\n",
       "      <td>user_69</td>\n",
       "      <td>63</td>\n",
       "    </tr>\n",
       "    <tr>\n",
       "      <th>1</th>\n",
       "      <td>Barbra Streisand</td>\n",
       "      <td>At The Same Time</td>\n",
       "      <td>think of all the hearts  \\r beating in the wor...</td>\n",
       "      <td>0SdtnLzfhMnIsGcmhr6ac8</td>\n",
       "      <td>user_45</td>\n",
       "      <td>32</td>\n",
       "    </tr>\n",
       "    <tr>\n",
       "      <th>2</th>\n",
       "      <td>Chaka Khan</td>\n",
       "      <td>Clouds</td>\n",
       "      <td>clouds  \\r different shapes and sizes  \\r hidi...</td>\n",
       "      <td>1opSxQP8KkdKOGvbvlmuIV</td>\n",
       "      <td>user_92</td>\n",
       "      <td>99</td>\n",
       "    </tr>\n",
       "    <tr>\n",
       "      <th>3</th>\n",
       "      <td>Weird Al Yankovic</td>\n",
       "      <td>Bob</td>\n",
       "      <td>i, man, am regal a german am i  \\r never odd o...</td>\n",
       "      <td>2deME7JS3NAKCVJqm1l0Vs</td>\n",
       "      <td>user_62</td>\n",
       "      <td>55</td>\n",
       "    </tr>\n",
       "    <tr>\n",
       "      <th>4</th>\n",
       "      <td>Harry Connick, Jr.</td>\n",
       "      <td>Something Was Missing</td>\n",
       "      <td>i've made me a fortune  \\r (that fortune made ...</td>\n",
       "      <td>6UVM7drZAN6oteWCdqtHAp</td>\n",
       "      <td>user_99</td>\n",
       "      <td>90</td>\n",
       "    </tr>\n",
       "    <tr>\n",
       "      <th>...</th>\n",
       "      <td>...</td>\n",
       "      <td>...</td>\n",
       "      <td>...</td>\n",
       "      <td>...</td>\n",
       "      <td>...</td>\n",
       "      <td>...</td>\n",
       "    </tr>\n",
       "    <tr>\n",
       "      <th>2995</th>\n",
       "      <td>King Crimson</td>\n",
       "      <td>Heartbeat</td>\n",
       "      <td>i need to feel your heartbeat heartbeat  \\r so...</td>\n",
       "      <td>5esztZeiWJF8dYixCubgai</td>\n",
       "      <td>user_99</td>\n",
       "      <td>56</td>\n",
       "    </tr>\n",
       "    <tr>\n",
       "      <th>2996</th>\n",
       "      <td>Air Supply</td>\n",
       "      <td>Stars In Your Eyes</td>\n",
       "      <td>we are civilized and free from all confusion  ...</td>\n",
       "      <td>2kul5Vj85iJV57lOZ25vS2</td>\n",
       "      <td>user_41</td>\n",
       "      <td>20</td>\n",
       "    </tr>\n",
       "    <tr>\n",
       "      <th>2997</th>\n",
       "      <td>Janis Joplin</td>\n",
       "      <td>Flower In The Sun</td>\n",
       "      <td>oh please don't you think baby that i am wrong...</td>\n",
       "      <td>3O59UWV5NDKZ6Td64Acpzv</td>\n",
       "      <td>user_45</td>\n",
       "      <td>8</td>\n",
       "    </tr>\n",
       "    <tr>\n",
       "      <th>2998</th>\n",
       "      <td>Wiz Khalifa</td>\n",
       "      <td>Fly solo</td>\n",
       "      <td>[chorus]  \\r i had a dream that the whole worl...</td>\n",
       "      <td>6qa6a2fsCbLMkSIoZEfvTJ</td>\n",
       "      <td>user_31</td>\n",
       "      <td>97</td>\n",
       "    </tr>\n",
       "    <tr>\n",
       "      <th>2999</th>\n",
       "      <td>Devo</td>\n",
       "      <td>Pink Pussycat</td>\n",
       "      <td>pink pussycat  \\r where are you  \\r pink pussy...</td>\n",
       "      <td>3Lfi3mdVytpWxe2SrGBN1b</td>\n",
       "      <td>user_2</td>\n",
       "      <td>39</td>\n",
       "    </tr>\n",
       "  </tbody>\n",
       "</table>\n",
       "<p>3000 rows × 6 columns</p>\n",
       "</div>"
      ],
      "text/plain": [
       "                  artist                             song  \\\n",
       "0        Ella Fitzgerald  Happiness Is A Thing Called Joe   \n",
       "1       Barbra Streisand                 At The Same Time   \n",
       "2             Chaka Khan                           Clouds   \n",
       "3      Weird Al Yankovic                              Bob   \n",
       "4     Harry Connick, Jr.            Something Was Missing   \n",
       "...                  ...                              ...   \n",
       "2995        King Crimson                        Heartbeat   \n",
       "2996          Air Supply               Stars In Your Eyes   \n",
       "2997        Janis Joplin                Flower In The Sun   \n",
       "2998         Wiz Khalifa                         Fly solo   \n",
       "2999                Devo                    Pink Pussycat   \n",
       "\n",
       "                                                   text  \\\n",
       "0     it seem like happiness is jus' a thing called ...   \n",
       "1     think of all the hearts  \\r beating in the wor...   \n",
       "2     clouds  \\r different shapes and sizes  \\r hidi...   \n",
       "3     i, man, am regal a german am i  \\r never odd o...   \n",
       "4     i've made me a fortune  \\r (that fortune made ...   \n",
       "...                                                 ...   \n",
       "2995  i need to feel your heartbeat heartbeat  \\r so...   \n",
       "2996  we are civilized and free from all confusion  ...   \n",
       "2997  oh please don't you think baby that i am wrong...   \n",
       "2998  [chorus]  \\r i had a dream that the whole worl...   \n",
       "2999  pink pussycat  \\r where are you  \\r pink pussy...   \n",
       "\n",
       "           extracted_song_id  user_id  listen_count  \n",
       "0     6dy6iJLDPWYlYIJLNfIjYJ  user_69            63  \n",
       "1     0SdtnLzfhMnIsGcmhr6ac8  user_45            32  \n",
       "2     1opSxQP8KkdKOGvbvlmuIV  user_92            99  \n",
       "3     2deME7JS3NAKCVJqm1l0Vs  user_62            55  \n",
       "4     6UVM7drZAN6oteWCdqtHAp  user_99            90  \n",
       "...                      ...      ...           ...  \n",
       "2995  5esztZeiWJF8dYixCubgai  user_99            56  \n",
       "2996  2kul5Vj85iJV57lOZ25vS2  user_41            20  \n",
       "2997  3O59UWV5NDKZ6Td64Acpzv  user_45             8  \n",
       "2998  6qa6a2fsCbLMkSIoZEfvTJ  user_31            97  \n",
       "2999  3Lfi3mdVytpWxe2SrGBN1b   user_2            39  \n",
       "\n",
       "[3000 rows x 6 columns]"
      ]
     },
     "execution_count": 19,
     "metadata": {},
     "output_type": "execute_result"
    }
   ],
   "source": [
    "bins = [0, 1, 2, 3, 4, 5, 6, 7, 8, 9, 2214]\n",
    "fd"
   ]
  },
  {
   "cell_type": "code",
   "execution_count": 20,
   "id": "d806ce94-1b5e-444b-843f-52bcaa2a7776",
   "metadata": {},
   "outputs": [],
   "source": [
    "fd['listen_count'] = pd.cut(fd['listen_count'], bins=bins, labels=[1, 2, 3, 4, 5, 6, 7, 8, 9, 10])"
   ]
  },
  {
   "cell_type": "code",
   "execution_count": 21,
   "id": "ab4f2356-c821-4b82-8782-16380f072ba2",
   "metadata": {},
   "outputs": [
    {
     "name": "stderr",
     "output_type": "stream",
     "text": [
      "C:\\Users\\GAGAN\\AppData\\Local\\Temp\\ipykernel_11616\\3232565899.py:1: FutureWarning: The default of observed=False is deprecated and will be changed to True in a future version of pandas. Pass observed=False to retain current behavior or observed=True to adopt the future default and silence this warning.\n",
      "  listen_counts = pd.DataFrame(fd.groupby('listen_count').size(), columns=['count']).reset_index(drop=False)\n"
     ]
    }
   ],
   "source": [
    "listen_counts = pd.DataFrame(fd.groupby('listen_count').size(), columns=['count']).reset_index(drop=False)"
   ]
  },
  {
   "cell_type": "code",
   "execution_count": 22,
   "id": "7f0467cd-9a19-4c1b-ac0d-2b3d7cc48d74",
   "metadata": {},
   "outputs": [
    {
     "name": "stderr",
     "output_type": "stream",
     "text": [
      "C:\\Users\\GAGAN\\AppData\\Local\\Temp\\ipykernel_11616\\2503496354.py:2: FutureWarning: \n",
      "\n",
      "Passing `palette` without assigning `hue` is deprecated and will be removed in v0.14.0. Assign the `x` variable to `hue` and set `legend=False` for the same effect.\n",
      "\n",
      "  sns.barplot(x='listen_count', y='count', palette='Set3', data=listen_counts)\n"
     ]
    },
    {
     "data": {
      "image/png": "[encoded data removed]",
      "text/plain": [
       "<Figure size 1600x800 with 1 Axes>"
      ]
     },
     "metadata": {},
     "output_type": "display_data"
    }
   ],
   "source": [
    "plt.figure(figsize=(16, 8))\n",
    "sns.barplot(x='listen_count', y='count', palette='Set3', data=listen_counts)\n",
    "plt.gca().spines['top'].set_visible(False)\n",
    "plt.gca().spines['right'].set_visible(False)\n",
    "plt.show();\n"
   ]
  },
  {
   "cell_type": "code",
   "execution_count": 23,
   "id": "a5d555c8-1e53-4063-8833-0358ac36c6ea",
   "metadata": {},
   "outputs": [],
   "source": [
    "# fd\n",
    "reader = Reader(rating_scale=(1, 10))\n",
    "data = Dataset.load_from_df(fd[['user_id', 'extracted_song_id', 'listen_count']], reader)"
   ]
  },
  {
   "cell_type": "code",
   "execution_count": 24,
   "id": "e7e87f04-c007-421c-987b-f33b25555310",
   "metadata": {},
   "outputs": [],
   "source": [
    "trainset, testset = train_test_split(data, test_size=.25)"
   ]
  },
  {
   "cell_type": "code",
   "execution_count": 25,
   "id": "34fa8cfe-25b1-4450-a13d-a8409e656466",
   "metadata": {},
   "outputs": [],
   "source": [
    "trainset, testset = train_test_split(data, test_size=.25)"
   ]
  },
  {
   "cell_type": "code",
   "execution_count": 26,
   "id": "a714e3ee-e7d1-4e43-8633-516a2927da8e",
   "metadata": {},
   "outputs": [],
   "source": [
    "param_grid = {'n_factors': [160], \n",
    "              'n_epochs': [100], \n",
    "              'lr_all': [0.001, 0.005],\n",
    "              'reg_all': [0.08, 0.1]}"
   ]
  },
  {
   "cell_type": "code",
   "execution_count": 27,
   "id": "1ad5333f-b337-4e3c-8b3a-f43328c95a5b",
   "metadata": {},
   "outputs": [],
   "source": [
    "grid_search_svd = GridSearchCV(SVD, param_grid, measures=['rmse'], cv=3, joblib_verbose=4, n_jobs=-2)\n"
   ]
  },
  {
   "cell_type": "code",
   "execution_count": 28,
   "id": "f7e40d6b-829c-4ea2-bb6f-487d3ac76943",
   "metadata": {},
   "outputs": [
    {
     "name": "stderr",
     "output_type": "stream",
     "text": [
      "[Parallel(n_jobs=-2)]: Using backend LokyBackend with 3 concurrent workers.\n"
     ]
    },
    {
     "name": "stdout",
     "output_type": "stream",
     "text": [
      "1.5966614558020324\n",
      "{'n_factors': 160, 'n_epochs': 100, 'lr_all': 0.005, 'reg_all': 0.1}\n"
     ]
    },
    {
     "name": "stderr",
     "output_type": "stream",
     "text": [
      "[Parallel(n_jobs=-2)]: Done  12 out of  12 | elapsed:    1.2s finished\n"
     ]
    }
   ],
   "source": [
    "# find the best parameters for the model\n",
    "grid_search_svd.fit(data)\n",
    "find_algo = grid_search_svd.best_estimator['rmse']\n",
    "print(grid_search_svd.best_score['rmse'])\n",
    "print(grid_search_svd.best_params['rmse'])"
   ]
  },
  {
   "cell_type": "code",
   "execution_count": 29,
   "id": "72f2ec33-43d5-41e1-b7d9-03f584d803f7",
   "metadata": {},
   "outputs": [
    {
     "name": "stdout",
     "output_type": "stream",
     "text": [
      "Evaluating RMSE of algorithm SVD on 5 split(s).\n",
      "\n",
      "                  Fold 1  Fold 2  Fold 3  Fold 4  Fold 5  Mean    Std     \n",
      "RMSE (testset)    1.6045  1.6245  1.6084  1.6317  1.6054  1.6149  0.0111  \n",
      "Fit time          0.43    0.43    0.44    0.42    0.43    0.43    0.01    \n",
      "Test time         0.00    0.01    0.01    0.01    0.01    0.01    0.00    \n"
     ]
    },
    {
     "data": {
      "text/plain": [
       "{'test_rmse': array([1.60452672, 1.62448394, 1.60839526, 1.63171425, 1.60539426]),\n",
       " 'fit_time': (0.43402910232543945,\n",
       "  0.4296395778656006,\n",
       "  0.4416999816894531,\n",
       "  0.41681957244873047,\n",
       "  0.42972826957702637),\n",
       " 'test_time': (0.004983186721801758,\n",
       "  0.0069980621337890625,\n",
       "  0.0059967041015625,\n",
       "  0.00699615478515625,\n",
       "  0.006008148193359375)}"
      ]
     },
     "execution_count": 29,
     "metadata": {},
     "output_type": "execute_result"
    }
   ],
   "source": [
    "# Perform the cross validation\n",
    "cross_validate(find_algo, data, measures=['RMSE'], cv=5, verbose=True)"
   ]
  },
  {
   "cell_type": "code",
   "execution_count": 32,
   "id": "8c142ce0-3d66-4b97-9ed1-4bb81d04b7d0",
   "metadata": {},
   "outputs": [
    {
     "name": "stdout",
     "output_type": "stream",
     "text": [
      "RMSE: 1.7383\n",
      "The RMSE is 1.7382766464000667\n"
     ]
    }
   ],
   "source": [
    "final_algorithm = SVD(n_factors=160, n_epochs=100, lr_all=0.005, reg_all=0.1)\n",
    "final_algorithm.fit(trainset)\n",
    "test_predictions = final_algorithm.test(testset)\n",
    "print(f\"The RMSE is {accuracy.rmse(test_predictions, verbose=True)}\")"
   ]
  },
  {
   "cell_type": "code",
   "execution_count": 33,
   "id": "a6d11a21-3f67-43bb-9b4d-bf12ee13795f",
   "metadata": {},
   "outputs": [
    {
     "name": "stdout",
     "output_type": "stream",
     "text": [
      "Model saved successfully.\n"
     ]
    }
   ],
   "source": [
    "import pickle\n",
    "\n",
    "# Save the trained model to a file\n",
    "with open('final_colaborative_music_recommender_model.pkl', 'wb') as model_file:\n",
    "    pickle.dump(final_algorithm, model_file)\n",
    "\n",
    "print(\"Model saved successfully.\")"
   ]
  },
  {
   "cell_type": "code",
   "execution_count": null,
   "id": "c3097261-34d5-4775-9fbf-26a27ad3fb72",
   "metadata": {},
   "outputs": [],
   "source": []
  }
 ],
 "metadata": {
  "kernelspec": {
   "display_name": "Python 3 (ipykernel)",
   "language": "python",
   "name": "python3"
  },
  "language_info": {
   "codemirror_mode": {
    "name": "ipython",
    "version": 3
   },
   "file_extension": ".py",
   "mimetype": "text/x-python",
   "name": "python",
   "nbconvert_exporter": "python",
   "pygments_lexer": "ipython3",
   "version": "3.12.6"
  }
 },
 "nbformat": 4,
 "nbformat_minor": 5
}
